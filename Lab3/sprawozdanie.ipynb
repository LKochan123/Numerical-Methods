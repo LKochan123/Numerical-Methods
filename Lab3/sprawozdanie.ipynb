{
 "cells": [
  {
   "cell_type": "markdown",
   "metadata": {},
   "source": [
    "# <center>Laboratorium 3<br>Metody Numeryczne</center>"
   ]
  },
  {
   "cell_type": "markdown",
   "metadata": {},
   "source": [
    "Instrukcja:  \n",
    "Na zajęciach należy wykonać poniższe zadania, dokonać testu na platformie github, a następnie sporządzić sprawozdanie zawierające odpowiedzi z komentarzami."
   ]
  },
  {
   "cell_type": "markdown",
   "metadata": {},
   "source": [
    "Biblioteki niezbędne do wykonania zadania:\n",
    "\n",
    "(instalacja: \"pip install numpy scipy matplotlib memory_profiler\")"
   ]
  },
  {
   "cell_type": "code",
   "execution_count": 1,
   "metadata": {},
   "outputs": [],
   "source": [
    "import main\n",
    "\n",
    "import numpy as np\n",
    "import scipy\n",
    "import matplotlib\n",
    "import matplotlib.pyplot as plt\n",
    "\n",
    "%load_ext memory_profiler"
   ]
  },
  {
   "cell_type": "markdown",
   "metadata": {},
   "source": [
    "***Materiały przygotowujące:***\n",
    "- Standard IEEE 754 [PL](https://pl.wikipedia.org/wiki/IEEE_754) [EN](https://en.wikipedia.org/wiki/IEEE_754)\n",
    "- Liczba zmiennoprzecinkowa [PL](https://pl.wikipedia.org/wiki/Liczba_zmiennoprzecinkowa) [EN](https://en.wikipedia.org/wiki/Floating-point_arithmetic)\n",
    "- Arytmetyka zmiennoprzecinkowa [Python](https://docs.python.org/3.7/tutorial/floatingpoint.html)"
   ]
  },
  {
   "cell_type": "markdown",
   "metadata": {},
   "source": [
    "***Profilowanie kodu:***\n",
    "- [timeit](https://docs.python.org/2/library/timeit.html) - profilowanie czasu wykonywania kodu \n",
    "- [memit](https://pypi.org/project/memory-profiler/) - profilowanie pamięci zużywanej przez kod\n",
    "\n",
    "Zarówno timeit jak i memit wspierają magic command w Jupyter notebook, co obrazuje poniższy przykład:"
   ]
  },
  {
   "cell_type": "code",
   "execution_count": 3,
   "metadata": {},
   "outputs": [
    {
     "name": "stdout",
     "output_type": "stream",
     "text": [
      "SIZE:  100\n",
      "Timing: \n",
      "153 µs ± 19.8 µs per loop (mean ± std. dev. of 5 runs, 10 loops each)\n",
      "Memory usage: \n",
      "peak memory: 77.20 MiB, increment: 0.46 MiB\n",
      "\n",
      "\n",
      "SIZE:  1000\n",
      "Timing: \n",
      "15.8 ms ± 289 µs per loop (mean ± std. dev. of 5 runs, 10 loops each)\n",
      "Memory usage: \n",
      "peak memory: 99.49 MiB, increment: 22.38 MiB\n",
      "\n",
      "\n",
      "SIZE:  10000\n",
      "Timing: \n",
      "1.35 s ± 35.8 ms per loop (mean ± std. dev. of 5 runs, 10 loops each)\n",
      "Memory usage: \n",
      "peak memory: 2094.56 MiB, increment: 2016.82 MiB\n",
      "\n",
      "\n"
     ]
    }
   ],
   "source": [
    "def func(size):\n",
    "    a = np.random.random((size,size))\n",
    "    b = np.random.random((size,size))\n",
    "    c = a + b\n",
    "    return c\n",
    "\n",
    "for size in [100, 1000, 10000]:\n",
    "    print('SIZE: ', size)\n",
    "    print('Timing: ')\n",
    "    saved_timing = %timeit -r 5 -n 10 -o func(size)\n",
    "    saved_timing.average   # średni czas próby\n",
    "    saved_timing.stdev     # odchylenie standardowe\n",
    "    print('Memory usage: ')\n",
    "    %memit func(size)\n",
    "    print('\\n')"
   ]
  },
  {
   "cell_type": "markdown",
   "metadata": {},
   "source": [
    "***Zadanie 1.***  \n",
    "Zaimplementuj funkcje obliczające błąd względny i bezwzględny (*relative_error* i *absolut_error*).\n",
    "Funkcje przyjmują 2 argumenty: wartość dokładną oraz wartość przybliżoną, zwracając wartość błędu.\n",
    "Implementacja powinna obsługiwać zarówno wartości skalarne, listy oraz wektory i macierze typu np.array z zachowaniem zasad [broadcastingu](https://numpy.org/doc/stable/user/basics.broadcasting.html).\n",
    "\n",
    "**Wskazówka** Wykorzystuj funkcje *relative_error* i *absolut_error* w dalszej części laboratorium do analizy błędów."
   ]
  },
  {
   "cell_type": "code",
   "execution_count": 50,
   "metadata": {},
   "outputs": [],
   "source": [
    "#uzupełnione w main.py"
   ]
  },
  {
   "cell_type": "markdown",
   "metadata": {},
   "source": [
    "***Zadanie 2.***  \n",
    "Zaimplementuj funkcje *p_diff*, która przyjmuje jako parametry wartości całkowite $n$ i rzeczywiste $c$ oraz zwraca różnicę (co do wartości bezwzględnej)   dwóch wyrażeń $P_1$ oraz $P_2$:  \n",
    "  \n",
    "a) $P_1 = b - b + c $  \n",
    "b) $P_2 = b + c - b $  \n",
    "  \n",
    "gdzie $b = 2^n$\n",
    "\n",
    "Analizując różnicę w otrzymanych wynikach zastosuj warotści:  \n",
    "- $n \\in \\{1,2,3... 50\\}$\n",
    "- $c \\in \\{0.1, 0.125, 0.25, 0.33, 0.5, 0.6\\}$\n",
    " \n",
    "Następnie odpowiedź i zilustruj wykresami pytania:\n",
    "\n",
    "1. Jaki wynik powinniśmy otrzymać?\n",
    "2. Które z liczb mają skończoną a które nieskończoną reprezentację?    \n",
    "3. Dlaczego wyniki się od siebie różnią?    \n",
    "4. Jaki typ błędu tutaj występuje?\n",
    "5. Czy istnieje możliwość poprawy działania tych wyrażeń, jeżeli tak to w jaki sposób?  \n"
   ]
  },
  {
   "cell_type": "code",
   "execution_count": 52,
   "metadata": {},
   "outputs": [
    {
     "name": "stdout",
     "output_type": "stream",
     "text": [
      "n = 0, c = 0.1 -> 8.326672684688674e-17\n",
      "n = 1, c = 0.125 -> 0.0\n",
      "n = 2, c = 0.25 -> 0.0\n",
      "n = 3, c = 0.33 -> 5.551115123125783e-17\n",
      "n = 4, c = 0.5 -> 0.0\n",
      "n = 5, c = 0.6 -> 1.4432899320127035e-15\n"
     ]
    }
   ],
   "source": [
    "c = [0.1, 0.125, 0.25, 0.33, 0.5, 0.6]\n",
    "\n",
    "for i in range (len(c)):\n",
    "    print(f'n = {i}, c = {c[i]} -> {main.p_diff(i, c[i])}')\n",
    "    \n",
    "#1 Analitycznie wszędzie powinniśmy otrzymać 0. \n",
    "#2 Skończoną reprezentację mają (0.125, 0.25 i 0.5) czyli liczby które możemy przedstawić w postaci potęgi liczby 2.\n",
    "#3 Wyniki się różnią ponieważ brakuje liczby bitów przeznaczonych na zapis dla liczb z nieskończoną reprezentacją. \n",
    "#4 Błąd reprezentacji \n",
    "#5 "
   ]
  },
  {
   "cell_type": "markdown",
   "metadata": {},
   "source": [
    "***Zadanie 3.***  \n",
    "Wartości funkcji $\\mathrm{e}^{x}$ można obliczyć w przybliżeniu z szeregu Taylora w następujący sposób:  \n",
    "  \n",
    "$\\mathrm{e}^{x} \\approx \\sum\\limits_{i=0}^{N}{\\cfrac{1}{i!}x^{i}}$ \n",
    "  \n",
    "na podstawie przedstawionych informacji zaimplementuj funkcje *exponential* która oblicza $\\mathrm{e}^{x}$ z zadaną dokładnością $N$. Porównaj działanie utworzonej funkcji z [numpy.exp](https://docs.scipy.org/doc/numpy-1.15.1/reference/generated/numpy.exp.html). Odpowiedz na pytania:  \n",
    "\n",
    "1. Jaki typ błędu obrazuje omawiany przykład?\n",
    "2. Dokonaj analizy błędów bezwzględnych i względnych w zależności od wartości $n$."
   ]
  },
  {
   "cell_type": "code",
   "execution_count": 51,
   "metadata": {},
   "outputs": [
    {
     "name": "stdout",
     "output_type": "stream",
     "text": [
      "Wynik e**4 z dokładnością n=12:            54.54818021484688\n",
      "Wynik e**4 z dokładnością n=14:            54.59398264287153\n",
      "Wynik e**4 z użyciem funkcji z biblioteki: 54.598150033144236\n",
      "\n",
      "\n",
      "Dla n=1, e=1.00000 błąd bezwzględny wynosi: 1.71828, a względny: 0.63212\n",
      "\n",
      "Dla n=2, e=2.00000 błąd bezwzględny wynosi: 0.71828, a względny: 0.26424\n",
      "\n",
      "Dla n=3, e=2.50000 błąd bezwzględny wynosi: 0.21828, a względny: 0.08030\n",
      "\n",
      "Dla n=4, e=2.66667 błąd bezwzględny wynosi: 0.05162, a względny: 0.01899\n",
      "\n",
      "Dla n=5, e=2.70833 błąd bezwzględny wynosi: 0.00995, a względny: 0.00366\n",
      "\n"
     ]
    }
   ],
   "source": [
    "print('Wynik e**4 z dokładnością n=12:           ',main.exponential(4, 12)) \n",
    "print('Wynik e**4 z dokładnością n=14:           ',main.exponential(4, 14))\n",
    "print('Wynik e**4 z użyciem funkcji z biblioteki:', np.exp(4))\n",
    "print('\\n')\n",
    "\n",
    "#Możemy zauważyć, że im większa jest zadana dokładność tym wynik jest bliższy wartości rzeczywistej\n",
    "#1 Błąd obcięcia, ponieważ liczymy dla konkretnego n, nie potrafimy policzyć nieskończonej sumy.\n",
    "#2Poniżej sporządzone wartości błędów dla n = <1, 5>\n",
    "\n",
    "for n in range(1, 6):\n",
    "    print(f\"Dla n={n}, e={main.exponential(1, n):.5f} błąd bezwzględny wynosi: {main.absolut_error(np.exp(1), main.exponential(1, n)):.5f}, a względny: {main.relative_error(np.exp(1), main.exponential(1, n)):.5f}\\n\")\n"
   ]
  },
  {
   "cell_type": "markdown",
   "metadata": {},
   "source": [
    "***Zadania 4.***  \n",
    "Zaimplementuj 2 funkcje $coskx1$ i $coskx2$, realizujące rekurencyjnie przybliżanie wartości $cos(kx)$ w następujący sposób:\n",
    "\n",
    "- Metoda 1:         \n",
    "$cos(m+1)x = 2cosx \\cdot cos(mx) - cos(m-1)x$\n",
    "- Metoda 2:     \n",
    "$cos(mx) = cosx \\cdot cos(m-1)x - sinx \\cdot sin(m-1)x$       \n",
    "$sin(mx) = sinx \\cdot cos(m-1)x + cosx \\cdot sin(m-1)x$\n",
    "\n",
    "Następnie przeanalizuj otrzymane rezultaty dla różnych $k$.\n",
    "\n",
    "**Wskazówka** Do wyliczenia wartości $sin(x)$, $cos(x)$ (dla $k=1$) można użyć funkcji biblioteki numpy. \n",
    "Pozostałe wartości dla $k>1$ należy wyznaczyć rekurencyjnie."
   ]
  },
  {
   "cell_type": "code",
   "execution_count": 54,
   "metadata": {},
   "outputs": [
    {
     "name": "stdout",
     "output_type": "stream",
     "text": [
      "Cos pi/2 ~ 2.220446049250313e-16\n",
      "Cos pi i sin pi ~ (-1.0, 1.2246467991473532e-16)\n"
     ]
    }
   ],
   "source": [
    "import math\n",
    "\n",
    "print('Cos pi/2 ~', main.coskx1(2, math.pi/4)) #Błąd, powinno wyjść 0. \n",
    "print('Cos pi i sin pi ~', main.coskx2(2, math.pi/2)) #Cosinus się zgadza natomiast wartość sinusa również powinna być równa 0."
   ]
  },
  {
   "cell_type": "markdown",
   "metadata": {},
   "source": [
    "***Zadanie 5.***  \n",
    "Wiedząc, że\n",
    "$\\begin{aligned}\n",
    "\\sum_{n=1}^{\\infty} \\cfrac{1}{n^2} = \\cfrac{1}{6} \\pi^2\n",
    "\\end{aligned}$,\n",
    "napisz kod w Pythonie (funkcja *pi*) obliczający przybliżenie liczby pi (nie korzystaj ze stałych <i>numpy.pi</i>, <i>math.pi</i> itp.). \n",
    "\n",
    "1. Z jakimi rodzajami błędów numerycznych mamy tu do czynienia? \n",
    "2. Sporządź wykresy błędów bezwzględnych i względnych w stosunku do stałej numpy.pi w zależności od wartości $n$.  \n",
    "\n",
    "**Wskazówka** Do wizualizacji wyników użyj skali logarytmicznej."
   ]
  },
  {
   "cell_type": "code",
   "execution_count": 53,
   "metadata": {},
   "outputs": [
    {
     "data": {
      "image/png": "[encoded data removed]",
      "text/plain": [
       "<Figure size 432x288 with 1 Axes>"
      ]
     },
     "metadata": {
      "needs_background": "light"
     },
     "output_type": "display_data"
    }
   ],
   "source": [
    "#1 M.in. błąd obcięcia ponieważ liczymy tylko skończoną sumę. (nasz parametr 'n')\n",
    "#2 Sporządzony niżej wykres\n",
    "abs_arr = np.zeros(200)\n",
    "rel_arr = np.zeros(200)\n",
    "x = np.arange(0,200,1)\n",
    "\n",
    "\n",
    "for i in range(200):\n",
    "    abs_arr[i] = main.absolut_error(np.pi, main.pi(i))\n",
    "    rel_arr[i] = main.relative_error(np.pi, main.pi(i))\n",
    "\n",
    "plt.semilogx(abs_arr, label=\"Absolute error\")\n",
    "plt.semilogx(rel_arr, label=\"Relative error\")\n",
    "plt.legend([\"Błąd bezwzględny\", \"Błąd względny\"])\n",
    "plt.grid()\n",
    "plt.show()"
   ]
  },
  {
   "cell_type": "markdown",
   "metadata": {},
   "source": [
    "***Zadanie 6.***  \n",
    "Używając funkcji timeit oraz memit zbadaj czas działania oraz zużycie pamięci funkcji z Zadania 4 w zalożności od różnych wartości $n$.     \n",
    "Sporządź wykresy:\n",
    "- czasu obliczenia danego przybliżenia liczby pi w zależności od $n$. \n",
    "W tym celu wykorzystaj funkcje [errorbar](https://matplotlib.org/3.1.1/api/_as_gen/matplotlib.pyplot.errorbar.html) oraz zwracane przez *timeit* wartości średnie oraz ich odchylenie standardowe. \n",
    "- błędu bezwzględnego przybliżenia liczby pi od czasu jego wykonania.\n",
    "\n",
    "\n",
    "\n",
    "**Wskazówka** Użyj opcji -o (output) dla *timeit* aby zapisać wynik do zmiennej. Opcje -r (runs) i -n (ilość pentli) decydują o ilości wykonanych prób.     \n",
    "Do wizualizacji wyników użyj skali logarytmicznej."
   ]
  },
  {
   "cell_type": "code",
   "execution_count": 48,
   "metadata": {},
   "outputs": [
    {
     "name": "stdout",
     "output_type": "stream",
     "text": [
      "369 ns ± 52.6 ns per loop (mean ± std. dev. of 8 runs, 30 loops each)\n",
      "2.21 µs ± 754 ns per loop (mean ± std. dev. of 8 runs, 30 loops each)\n",
      "1.82 µs ± 186 ns per loop (mean ± std. dev. of 8 runs, 30 loops each)\n",
      "2.21 µs ± 130 ns per loop (mean ± std. dev. of 8 runs, 30 loops each)\n",
      "1.87 µs ± 490 ns per loop (mean ± std. dev. of 8 runs, 30 loops each)\n",
      "1.99 µs ± 160 ns per loop (mean ± std. dev. of 8 runs, 30 loops each)\n",
      "2.24 µs ± 413 ns per loop (mean ± std. dev. of 8 runs, 30 loops each)\n",
      "2.1 µs ± 95.5 ns per loop (mean ± std. dev. of 8 runs, 30 loops each)\n",
      "2.52 µs ± 96.6 ns per loop (mean ± std. dev. of 8 runs, 30 loops each)\n",
      "2.74 µs ± 95 ns per loop (mean ± std. dev. of 8 runs, 30 loops each)\n",
      "5.19 µs ± 946 ns per loop (mean ± std. dev. of 8 runs, 30 loops each)\n",
      "3.78 µs ± 705 ns per loop (mean ± std. dev. of 8 runs, 30 loops each)\n",
      "3.37 µs ± 93 ns per loop (mean ± std. dev. of 8 runs, 30 loops each)\n",
      "3.64 µs ± 52.3 ns per loop (mean ± std. dev. of 8 runs, 30 loops each)\n",
      "3.56 µs ± 45.9 ns per loop (mean ± std. dev. of 8 runs, 30 loops each)\n",
      "4.13 µs ± 44 ns per loop (mean ± std. dev. of 8 runs, 30 loops each)\n",
      "4.28 µs ± 70.8 ns per loop (mean ± std. dev. of 8 runs, 30 loops each)\n",
      "4.47 µs ± 37.2 ns per loop (mean ± std. dev. of 8 runs, 30 loops each)\n",
      "7.96 µs ± 2.21 µs per loop (mean ± std. dev. of 8 runs, 30 loops each)\n",
      "4.88 µs ± 180 ns per loop (mean ± std. dev. of 8 runs, 30 loops each)\n",
      "5.19 µs ± 65.1 ns per loop (mean ± std. dev. of 8 runs, 30 loops each)\n",
      "5.51 µs ± 108 ns per loop (mean ± std. dev. of 8 runs, 30 loops each)\n",
      "5.46 µs ± 388 ns per loop (mean ± std. dev. of 8 runs, 30 loops each)\n",
      "5.99 µs ± 64.9 ns per loop (mean ± std. dev. of 8 runs, 30 loops each)\n",
      "11.3 µs ± 4.12 µs per loop (mean ± std. dev. of 8 runs, 30 loops each)\n",
      "6.96 µs ± 1.63 µs per loop (mean ± std. dev. of 8 runs, 30 loops each)\n",
      "9.91 µs ± 897 ns per loop (mean ± std. dev. of 8 runs, 30 loops each)\n",
      "11.5 µs ± 430 ns per loop (mean ± std. dev. of 8 runs, 30 loops each)\n",
      "6.59 µs ± 599 ns per loop (mean ± std. dev. of 8 runs, 30 loops each)\n",
      "6.65 µs ± 59.7 ns per loop (mean ± std. dev. of 8 runs, 30 loops each)\n"
     ]
    },
    {
     "data": {
      "image/png": "[encoded data removed]",
      "text/plain": [
       "<Figure size 432x288 with 1 Axes>"
      ]
     },
     "metadata": {
      "needs_background": "light"
     },
     "output_type": "display_data"
    },
    {
     "data": {
      "image/png": "[encoded data removed]",
      "text/plain": [
       "<Figure size 432x288 with 1 Axes>"
      ]
     },
     "metadata": {
      "needs_background": "light"
     },
     "output_type": "display_data"
    }
   ],
   "source": [
    "#Zakładam, że chodzi o zad.5 -> z liczbą pi ponieważ tam jest parametr 'n'\n",
    "\n",
    "time = np.zeros(30)\n",
    "odchylenie = np.zeros(30)\n",
    "b_bezw = np.zeros(30)\n",
    "x = np.arange(0, 30, 1)\n",
    "\n",
    "for i in range(30):\n",
    "    saved_timing = %timeit -r 8 -n 30 -o main.pi(i)\n",
    "    time[i] = saved_timing.average\n",
    "    odchylenie[i] = saved_timing.stdev\n",
    "    b_bezw[i] = main.absolut_error(np.pi, time[i])\n",
    "    \n",
    "plt.errorbar(x, time, yerr=odchylenie, xerr=None, marker='o')\n",
    "plt.title('Zależność czasu od ilości operacji (pi(n))')\n",
    "plt.xlabel(\"Ilość operacji\"), plt.ylabel(\"Czas wykonywania\")\n",
    "plt.grid()\n",
    "plt.show()\n",
    "\n",
    "plt.semilogx(time, b_bezw)\n",
    "plt.title('Zależność błędu bezw. i czasu wykonania')\n",
    "plt.xlabel('Czas wykonania'), plt.ylabel('Błąd bezwzględny')\n",
    "plt.grid()\n",
    "plt.show()\n"
   ]
  },
  {
   "cell_type": "code",
   "execution_count": null,
   "metadata": {},
   "outputs": [],
   "source": []
  }
 ],
 "metadata": {
  "kernelspec": {
   "display_name": "Python 3 (ipykernel)",
   "language": "python",
   "name": "python3"
  },
  "language_info": {
   "codemirror_mode": {
    "name": "ipython",
    "version": 3
   },
   "file_extension": ".py",
   "mimetype": "text/x-python",
   "name": "python",
   "nbconvert_exporter": "python",
   "pygments_lexer": "ipython3",
   "version": "3.8.5"
  }
 },
 "nbformat": 4,
 "nbformat_minor": 2
}
