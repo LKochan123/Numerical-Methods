{
 "cells": [
  {
   "cell_type": "markdown",
   "metadata": {},
   "source": [
    "# <center>Rozwiązywanie układów równań</center>\n",
    "# <center>Metody iteracyjne</center>"
   ]
  },
  {
   "cell_type": "markdown",
   "metadata": {},
   "source": [
    "Instrukcja:\n",
    "Na zajęciach należy wykonać poniższe zadania, a następnie sporządzić sprawozdanie zawierające odpowiedzi (w postaci kodu) z komentarzami w środowisku Jupyter Notebook i umieścić je na platformie e-learningowej.   "
   ]
  },
  {
   "cell_type": "code",
   "execution_count": 1,
   "metadata": {},
   "outputs": [],
   "source": [
    "import main\n",
    "import scipy as sp\n",
    "import numpy as np\n",
    "import scipy.sparse.linalg as sp_linalg\n",
    "import numpy.linalg as np_linalg\n",
    "import matplotlib\n",
    "import matplotlib.pyplot as plt"
   ]
  },
  {
   "cell_type": "code",
   "execution_count": 2,
   "metadata": {},
   "outputs": [],
   "source": [
    "def res_norm(A, x, b):\n",
    "    return np.linalg.norm(b - A @ x)"
   ]
  },
  {
   "cell_type": "markdown",
   "metadata": {},
   "source": [
    "**Cel zajęć:**  \n",
    "Celem zajęć jest zapoznanie się z iteracyjnymi metodami rozwiązywania układów równań liniowych w postaci macierzowej. Metody iteracyjne, w przeciwieństwie do analitycznych, nie zwracają dokładnego rozwiązania, a jedynie jego przybliżenie. Przy spełnionych kryteriach, przybliżenia obliczane w kolejnych iteracjach są zbieżne do dokładnego rozwiązania. Metody iteracyjne znajdują swoje zastosowanie szczególnie przy dużych układach równań postaci: \n",
    "   \n",
    "$\n",
    "\\mathbf{Ax}=\\mathbf{b}\n",
    "$ \n",
    "  \n",
    "gdzie $\\mathbf{A}$ to macierz współczynników z lewej strony równania, wektor $\\mathbf{x}$ jest wektorem zmiennych a wektor $\\mathbf{b}$ wyników prawej strony równania.  \n",
    "\n",
    "Do oceny jakości rozwiązania będziemy wykorzystywać residuum (ang. *residual*)\n",
    "$\n",
    "\\mathbf{r}=\\mathbf{b}-\\mathbf{Ax}\n",
    "$ \n",
    "  "
   ]
  },
  {
   "cell_type": "markdown",
   "metadata": {},
   "source": [
    "***Zadanie 1***   \n",
    "Zdefiniuję funkcję *diag_dominant_matrix_A_b*, przyjmującą paramter całkowity $m>0$ która zwróci:\n",
    "- macierz diagonalnie zdominowana $\\mathbf{A}$ o wymiarach $m \\times m$ (wyrazy na przekątnej sa wieksze co do modułu od sumy pozostałych w danej kolumnie i wierszu)\n",
    "- wektor $\\mathbf{b}$ o wymiarach $m \\times 1$ \n",
    " \n",
    "o losowych wartościach całkowitych\n",
    "\n",
    "Dodatkowo zdefiniuj funkcje *is_diag_dominant* sprawdzającą czy zadana macierz jest diagonalnie zdominowana"
   ]
  },
  {
   "cell_type": "markdown",
   "metadata": {},
   "source": [
    "***Zadanie 2***   \n",
    "Zdefiniuję funkcję *symmetric_matrix_A_b*, przyjmującą paramter całkowity $m>0$ która zwróci:\n",
    "- symetryczną macierz $\\mathbf{A}$ o wymiarach $m \\times m$ (wyrazy symetryczne względnej przekątnej są sobie równe)\n",
    "- wektor $\\mathbf{b}$ o wymiarach $m \\times 1$ \n",
    " \n",
    "o losowych wartościach całkowitych\n",
    "\n",
    "Dodatkowo zdefiniuj funkcje is_symmetric sprawdzającą czy zadana macierz jest symetryczna"
   ]
  },
  {
   "cell_type": "markdown",
   "metadata": {},
   "source": [
    "***Zadanie 3***   \n",
    "Zdefiniuję następujące układy równań:\n",
    "\n",
    "a) $\\mathbf{A_1}$, $\\mathbf{b_1}$: gdzie $\\mathbf{A_1}$ jest macierzą o wymiarach $m \\times m$, a $\\mathbf{b_1}$ wektorem $m \\times 1$, $m = 10$\n",
    "\n",
    "b) $\\mathbf{A_2}$, $\\mathbf{b_2}$: gdzie $\\mathbf{A_2}$ jest macierzą **diagonalnie zdominowaną** o wymiarach$m \\times m$, a $\\mathbf{b_2}$ wektorem $m \\times 1$, $m = 10$\n",
    " \n",
    "c) $\\mathbf{A_3}$, $\\mathbf{b_3}$: gdzie $\\mathbf{A_3}$ jest macierzą **symetryczną** o wymiarach $m \\times m$, a $\\mathbf{b_3}$ wektorem $m \\times 1$, $m = 10$   \n",
    " \n",
    "**Wskazówka**: Do generacji macierzy użyj metody *random_matrix_Ab* z lab6 oraz metod *diag_dominant_matrix_A_b* i *symmetric_matrix_A_b*"
   ]
  },
  {
   "cell_type": "code",
   "execution_count": 3,
   "metadata": {},
   "outputs": [],
   "source": [
    "import main_6\n",
    "N = 10\n",
    "#a)\n",
    "A1, b1 = main_6.random_matrix_Ab(N)\n",
    "\n",
    "#b)\n",
    "A2, b2 = main.diag_dominant_matrix_A_b(N)\n",
    "\n",
    "#c)\n",
    "A3, b3 = main.symmetric_matrix_A_b(N)"
   ]
  },
  {
   "cell_type": "markdown",
   "metadata": {},
   "source": [
    "***Zadanie 4***   \n",
    "Zaimplementuj iteracyjną metodę *solve_jacobi*, rozwiązującą układ równań metodą Jacobiego zgodnie z dokumentacją w pliku *main.py*.\n",
    "Szczegóły metody zostały przedstawione na wykładzie."
   ]
  },
  {
   "cell_type": "markdown",
   "metadata": {},
   "source": [
    "***Zadanie 5***   \n",
    "Rozwiąż układ równań z Zadania 3 podpunkt a) przy pomocy:\n",
    "\n",
    "- funkcji *[solve](https://docs.scipy.org/doc/numpy-1.15.1/reference/generated/numpy.linalg.solve.html?highlight=solve#numpy.linalg.solve)* z biblioteki numpy\n",
    "\n",
    "- zaimplementowanej iteracyjnej metody *solve_jacobi*\n",
    "\n",
    "- iteracyjnej metody *[gradientów sprzężonych](https://docs.scipy.org/doc/scipy/reference/generated/scipy.sparse.linalg.cg.html)*\n",
    " z biblioteki scipy\n",
    "\n",
    "- iteracyjnej metody *[GMRES](https://docs.scipy.org/doc/scipy/reference/generated/scipy.sparse.linalg.gmres.html)*\n",
    " z biblioteki scipy\n",
    "\n",
    "Przed każdą metodą sprawdź czy warunki dotyczące macierzy dla danej metody są spełnione. Zbadaj dokładność i czas obliczeń metod w zależności od liczby iteracji. Wyniki przedstaw na wykresach."
   ]
  },
  {
   "cell_type": "code",
   "execution_count": 4,
   "metadata": {},
   "outputs": [
    {
     "name": "stdout",
     "output_type": "stream",
     "text": [
      "Nie można zastosować metody solve_jacobi\n",
      "Nie można zastosować metody gradientów sprzężonych\n"
     ]
    }
   ],
   "source": [
    "import timeit\n",
    "from scipy.sparse.linalg import gmres\n",
    "\n",
    "#Metoda solve\n",
    "x1 = np.linalg.solve(A1, b1)\n",
    "\n",
    "#solve_jacobi\n",
    "if main.is_diag_dominant(A1):\n",
    "    print(\"Można\")\n",
    "else:\n",
    "    print(\"Nie można zastosować metody solve_jacobi\")\n",
    "    \n",
    "#Metoda gradientów sprzężonych\n",
    "if main.is_symmetric(A1): \n",
    "    print(\"Można zastosowac\")\n",
    "else:\n",
    "    print(\"Nie można zastosować metody gradientów sprzężonych\")\n",
    "    \n",
    "#Metoda GMRES\n",
    "x4, _ = gmres(A1, b1)"
   ]
  },
  {
   "cell_type": "code",
   "execution_count": 5,
   "metadata": {},
   "outputs": [
    {
     "name": "stdout",
     "output_type": "stream",
     "text": [
      "69.9 µs ± 23.2 µs per loop (mean ± std. dev. of 5 runs, 10 loops each)\n",
      "Dokładność funkcji solve: 8.070964826992553e-12\n"
     ]
    }
   ],
   "source": [
    "saved_timing_1 = %timeit -r 5 -n 10 -o np.linalg.solve(A1, b1)\n",
    "\n",
    "print(f'Dokładność funkcji solve: {res_norm(A1, x1, b1)}')"
   ]
  },
  {
   "cell_type": "code",
   "execution_count": 15,
   "metadata": {},
   "outputs": [
    {
     "name": "stdout",
     "output_type": "stream",
     "text": [
      "574 µs ± 220 µs per loop (mean ± std. dev. of 5 runs, 10 loops each)\n",
      "451 µs ± 91 µs per loop (mean ± std. dev. of 5 runs, 10 loops each)\n",
      "331 µs ± 90 µs per loop (mean ± std. dev. of 5 runs, 10 loops each)\n",
      "290 µs ± 9.72 µs per loop (mean ± std. dev. of 5 runs, 10 loops each)\n",
      "376 µs ± 54.2 µs per loop (mean ± std. dev. of 5 runs, 10 loops each)\n",
      "375 µs ± 107 µs per loop (mean ± std. dev. of 5 runs, 10 loops each)\n",
      "301 µs ± 11.4 µs per loop (mean ± std. dev. of 5 runs, 10 loops each)\n",
      "361 µs ± 67.5 µs per loop (mean ± std. dev. of 5 runs, 10 loops each)\n",
      "385 µs ± 92.5 µs per loop (mean ± std. dev. of 5 runs, 10 loops each)\n",
      "326 µs ± 37.7 µs per loop (mean ± std. dev. of 5 runs, 10 loops each)\n"
     ]
    },
    {
     "data": {
      "image/png": "[encoded data removed]",
      "text/plain": [
       "<Figure size 432x288 with 1 Axes>"
      ]
     },
     "metadata": {
      "needs_background": "light"
     },
     "output_type": "display_data"
    }
   ],
   "source": [
    "N = 500\n",
    "time = []\n",
    "mistake = []\n",
    "x = []\n",
    "for i in range(1, N, 50):\n",
    "    x.append(i)\n",
    "    saved_timing_4 = %timeit -r 5 -n 10 -o gmres(A1, b1, maxiter=i)\n",
    "    time.append(saved_timing_4.average)\n",
    "    mistake.append(saved_timing_4.stdev)\n",
    "    \n",
    "plt.errorbar(x, time, yerr=mistake, marker='o',linestyle=\"None\")\n",
    "plt.grid()\n",
    "plt.xlabel('Liczba iteracji'), plt.ylabel('Czas [s]')\n",
    "plt.title('Czas wykonania GMRES dla macierzy losowej')\n",
    "plt.show()"
   ]
  },
  {
   "cell_type": "code",
   "execution_count": 61,
   "metadata": {},
   "outputs": [
    {
     "data": {
      "image/png": "[encoded data removed]",
      "text/plain": [
       "<Figure size 432x288 with 1 Axes>"
      ]
     },
     "metadata": {
      "needs_background": "light"
     },
     "output_type": "display_data"
    }
   ],
   "source": [
    "N = 10\n",
    "norm = []\n",
    "x = []\n",
    "for i in range(1, N):\n",
    "    x.append(i)\n",
    "    x4, _ = gmres(A1, b1, maxiter=i)\n",
    "    norm.append(res_norm(A1, x4, b1))\n",
    "    \n",
    "plt.plot(x, norm, 'o')\n",
    "plt.grid()\n",
    "plt.yscale('log')\n",
    "plt.xlabel('Liczba iteracji')\n",
    "plt.ylabel('Norma residuum')\n",
    "plt.title('Norma residuum metody GMRES dla macierzy losowej')\n",
    "plt.show()"
   ]
  },
  {
   "cell_type": "markdown",
   "metadata": {},
   "source": [
    "***Zadanie 6***     \n",
    "Rozwiąż układ równań z Zadania 3 podpunkt b) przy pomocy:\n",
    "\n",
    "- funkcji *[solve](https://docs.scipy.org/doc/numpy-1.15.1/reference/generated/numpy.linalg.solve.html?highlight=solve#numpy.linalg.solve)* z biblioteki numpy\n",
    "\n",
    "- zaimplementowanej iteracyjnej metody *solve_jacobi*\n",
    "\n",
    "- iteracyjnej metody *[gradientów sprzężonych](https://docs.scipy.org/doc/scipy/reference/generated/scipy.sparse.linalg.cg.html)*\n",
    " z biblioteki scipy\n",
    "\n",
    "- iteracyjnej metody *[GMRES](https://docs.scipy.org/doc/scipy/reference/generated/scipy.sparse.linalg.gmres.html)*\n",
    " z biblioteki scipy\n",
    "\n",
    "Przed każdą metodą sprawdź czy warunki dotyczące macierzy dla danej metody są spełnione. Zbadaj dokładność i czas obliczeń metod w zależności od liczby iteracji. Wyniki przedstaw na wykresach."
   ]
  },
  {
   "cell_type": "code",
   "execution_count": 22,
   "metadata": {},
   "outputs": [
    {
     "name": "stdout",
     "output_type": "stream",
     "text": [
      "Nie można zastosować metody gradientów sprzężonych\n"
     ]
    }
   ],
   "source": [
    "#Metoda solve\n",
    "x_1 = np.linalg.solve(A2, b2)\n",
    "\n",
    "#solve_jacobi\n",
    "if main.is_diag_dominant(A2):\n",
    "    x2, _ = main.solve_jacobi(A2, b2, np.zeros(10,))\n",
    "else:\n",
    "    print(\"Nie można wykonać metody solve_jacobi\")\n",
    "\n",
    "#Metoda gradientów sprzężonych\n",
    "if main.is_symmetric(A2): \n",
    "    print(\"Można zastosowac\")\n",
    "else:\n",
    "    print(\"Nie można zastosować metody gradientów sprzężonych\")\n",
    "    \n",
    "#Metoda GMRES\n",
    "x4, _ = gmres(A2, b2)"
   ]
  },
  {
   "cell_type": "code",
   "execution_count": 23,
   "metadata": {},
   "outputs": [
    {
     "name": "stdout",
     "output_type": "stream",
     "text": [
      "54.3 µs ± 12 µs per loop (mean ± std. dev. of 5 runs, 10 loops each)\n",
      "\n",
      "\n",
      "Dokładność funkcji solve: 2.0947646134062088e-15\n"
     ]
    }
   ],
   "source": [
    "saved_timing_1 = %timeit -r 5 -n 10 -o np.linalg.solve(A2, b2)\n",
    "print('\\n')\n",
    "\n",
    "print(f'Dokładność funkcji solve: {res_norm(A2, x_1, b2)}')"
   ]
  },
  {
   "cell_type": "code",
   "execution_count": 24,
   "metadata": {},
   "outputs": [
    {
     "name": "stdout",
     "output_type": "stream",
     "text": [
      "96.4 µs ± 26.1 µs per loop (mean ± std. dev. of 5 runs, 10 loops each)\n",
      "338 µs ± 84 µs per loop (mean ± std. dev. of 5 runs, 10 loops each)\n",
      "428 µs ± 29.4 µs per loop (mean ± std. dev. of 5 runs, 10 loops each)\n",
      "688 µs ± 150 µs per loop (mean ± std. dev. of 5 runs, 10 loops each)\n",
      "826 µs ± 65.4 µs per loop (mean ± std. dev. of 5 runs, 10 loops each)\n",
      "1.16 ms ± 257 µs per loop (mean ± std. dev. of 5 runs, 10 loops each)\n",
      "1.31 ms ± 282 µs per loop (mean ± std. dev. of 5 runs, 10 loops each)\n",
      "1.3 ms ± 29.1 µs per loop (mean ± std. dev. of 5 runs, 10 loops each)\n",
      "1.96 ms ± 321 µs per loop (mean ± std. dev. of 5 runs, 10 loops each)\n",
      "2.21 ms ± 565 µs per loop (mean ± std. dev. of 5 runs, 10 loops each)\n"
     ]
    },
    {
     "data": {
      "image/png": "[encoded data removed]",
      "text/plain": [
       "<Figure size 432x288 with 1 Axes>"
      ]
     },
     "metadata": {
      "needs_background": "light"
     },
     "output_type": "display_data"
    }
   ],
   "source": [
    "N = 500\n",
    "time = []\n",
    "mistake = []\n",
    "x = []\n",
    "norm = []\n",
    "for i in range(1, N, 50):\n",
    "    x.append(i)\n",
    "    saved_timing_4 = %timeit -r 5 -n 10 -o main.solve_jacobi(A2, b2, np.zeros(10,), maxiter=i)\n",
    "    time.append(saved_timing_4.average)\n",
    "    mistake.append(saved_timing_4.stdev)\n",
    "    \n",
    "plt.errorbar(x, time, yerr=mistake, marker='o',linestyle=\"None\")\n",
    "plt.grid()\n",
    "plt.xlabel('Liczba iteracji'), plt.ylabel('Czas [s]')\n",
    "plt.title('Czas wykonania solve_jacobi dla macierzy zdominowanej')\n",
    "plt.show()"
   ]
  },
  {
   "cell_type": "code",
   "execution_count": 62,
   "metadata": {},
   "outputs": [
    {
     "data": {
      "image/png": "[encoded data removed]",
      "text/plain": [
       "<Figure size 432x288 with 1 Axes>"
      ]
     },
     "metadata": {
      "needs_background": "light"
     },
     "output_type": "display_data"
    }
   ],
   "source": [
    "N = 10\n",
    "norm = []\n",
    "x = []\n",
    "for i in range(1, N):\n",
    "    x.append(i)\n",
    "    x2, _ = main.solve_jacobi(A2, b2, np.zeros(10,), maxiter=i)\n",
    "    norm.append(res_norm(A2, x2, b2))\n",
    "    \n",
    "plt.plot(x, norm, 'o')\n",
    "plt.grid()\n",
    "plt.yscale('log')\n",
    "plt.xlabel('Liczba iteracji')\n",
    "plt.ylabel('Norma residuum')\n",
    "plt.title('Norma metody solve javobi dla macierzy zdominowanej')\n",
    "plt.show()"
   ]
  },
  {
   "cell_type": "code",
   "execution_count": 14,
   "metadata": {},
   "outputs": [
    {
     "name": "stdout",
     "output_type": "stream",
     "text": [
      "381 µs ± 75.2 µs per loop (mean ± std. dev. of 5 runs, 10 loops each)\n",
      "211 µs ± 26.7 µs per loop (mean ± std. dev. of 5 runs, 10 loops each)\n",
      "The slowest run took 5.10 times longer than the fastest. This could mean that an intermediate result is being cached.\n",
      "303 µs ± 247 µs per loop (mean ± std. dev. of 5 runs, 10 loops each)\n",
      "228 µs ± 130 µs per loop (mean ± std. dev. of 5 runs, 10 loops each)\n",
      "213 µs ± 54.3 µs per loop (mean ± std. dev. of 5 runs, 10 loops each)\n",
      "154 µs ± 5.3 µs per loop (mean ± std. dev. of 5 runs, 10 loops each)\n",
      "179 µs ± 52 µs per loop (mean ± std. dev. of 5 runs, 10 loops each)\n",
      "171 µs ± 17.5 µs per loop (mean ± std. dev. of 5 runs, 10 loops each)\n",
      "157 µs ± 6.36 µs per loop (mean ± std. dev. of 5 runs, 10 loops each)\n",
      "166 µs ± 12.6 µs per loop (mean ± std. dev. of 5 runs, 10 loops each)\n"
     ]
    },
    {
     "data": {
      "image/png": "[encoded data removed]",
      "text/plain": [
       "<Figure size 432x288 with 1 Axes>"
      ]
     },
     "metadata": {
      "needs_background": "light"
     },
     "output_type": "display_data"
    }
   ],
   "source": [
    "N = 1000\n",
    "time = []\n",
    "mistake = []\n",
    "x = []\n",
    "norm = []\n",
    "for i in range(1, N, 100):\n",
    "    x.append(i)\n",
    "    saved_timing_4 = %timeit -r 5 -n 10 -o gmres(A2, b2, maxiter=i)\n",
    "    time.append(saved_timing_4.average)\n",
    "    mistake.append(saved_timing_4.stdev)\n",
    "    \n",
    "plt.errorbar(x, time, yerr=mistake, marker='o',linestyle=\"None\")\n",
    "plt.grid()\n",
    "plt.xlabel('Liczba iteracji'), plt.ylabel('Czas [s]')\n",
    "plt.title('Czas wykonania GMRES dla macierzy diagonalnie zdominowanej')\n",
    "plt.show()"
   ]
  },
  {
   "cell_type": "code",
   "execution_count": 63,
   "metadata": {},
   "outputs": [
    {
     "data": {
      "image/png": "[encoded data removed]",
      "text/plain": [
       "<Figure size 432x288 with 1 Axes>"
      ]
     },
     "metadata": {
      "needs_background": "light"
     },
     "output_type": "display_data"
    }
   ],
   "source": [
    "N =15\n",
    "norm = []\n",
    "x = []\n",
    "for i in range(1, N):\n",
    "    x.append(i)\n",
    "    x4, _ = gmres(A2, b2, maxiter=i)\n",
    "    norm.append(res_norm(A2, x4, b2))\n",
    "    \n",
    "plt.plot(x, norm, 'o')\n",
    "plt.grid()\n",
    "plt.yscale('log')\n",
    "plt.xlabel('Liczba iteracji')\n",
    "plt.ylabel('Norma residuum')\n",
    "plt.title('Norma metodą GMRES dla macierzy zdominowanej')\n",
    "plt.show()"
   ]
  },
  {
   "cell_type": "markdown",
   "metadata": {},
   "source": [
    "***Zadanie 7***   \n",
    "Rozwiąż układ równań z Zadania 3 podpunkt c) przy pomocy:\n",
    "\n",
    "- funkcji *[solve](https://docs.scipy.org/doc/numpy-1.15.1/reference/generated/numpy.linalg.solve.html?highlight=solve#numpy.linalg.solve)* z biblioteki numpy\n",
    "\n",
    "- zaimplementowanej iteracyjnej metody *solve_jacobi*\n",
    "\n",
    "- iteracyjnej metody *[gradientów sprzężonych](https://docs.scipy.org/doc/scipy/reference/generated/scipy.sparse.linalg.cg.html)*\n",
    " z biblioteki scipy\n",
    "\n",
    "- iteracyjnej metody *[GMRES](https://docs.scipy.org/doc/scipy/reference/generated/scipy.sparse.linalg.gmres.html)*\n",
    " z biblioteki scipy\n",
    "\n",
    "Przed każdą metodą sprawdź czy warunki dotyczące macierzy dla danej metody są spełnione. Zbadaj dokładność i czas obliczeń metod w zależności od liczby iteracji. Wyniki przedstaw na wykresach."
   ]
  },
  {
   "cell_type": "code",
   "execution_count": 20,
   "metadata": {},
   "outputs": [
    {
     "name": "stdout",
     "output_type": "stream",
     "text": [
      "Nie można wykonać metody solve_jacobi\n"
     ]
    }
   ],
   "source": [
    "#solve numpy\n",
    "x__1 = np.linalg.solve(A3, b3)\n",
    "\n",
    "#solve_jacobi\n",
    "if main.is_diag_dominant(A3):\n",
    "    x2, _ = main.solve_jacobi(A3, b3, np.zeros(10,))\n",
    "else:\n",
    "    print(\"Nie można wykonać metody solve_jacobi\")\n",
    "\n",
    "if main.is_symmetric(A3): \n",
    "    x3, _ = sp.sparse.linalg.cg(A3, b3)\n",
    "else:\n",
    "    print(\"Nie można zastosować metody gradientów sprzężonych\")\n",
    "#Metoda GMRES\n",
    "x4, _ = gmres(A3, b3)"
   ]
  },
  {
   "cell_type": "code",
   "execution_count": 21,
   "metadata": {},
   "outputs": [
    {
     "name": "stdout",
     "output_type": "stream",
     "text": [
      "75.1 µs ± 11.8 µs per loop (mean ± std. dev. of 5 runs, 10 loops each)\n",
      "\n",
      "\n",
      "Dokładność funkcji solve: 4.757146962048553e-15\n"
     ]
    }
   ],
   "source": [
    "saved_timing_1 = %timeit -r 5 -n 10 -o np.linalg.solve(A3, b3)\n",
    "print('\\n')\n",
    "\n",
    "print(f'Dokładność funkcji solve: {res_norm(A3, x__1, b3)}')"
   ]
  },
  {
   "cell_type": "code",
   "execution_count": 25,
   "metadata": {},
   "outputs": [
    {
     "name": "stdout",
     "output_type": "stream",
     "text": [
      "198 µs ± 27.4 µs per loop (mean ± std. dev. of 5 runs, 10 loops each)\n",
      "501 µs ± 160 µs per loop (mean ± std. dev. of 5 runs, 10 loops each)\n",
      "415 µs ± 128 µs per loop (mean ± std. dev. of 5 runs, 10 loops each)\n",
      "393 µs ± 103 µs per loop (mean ± std. dev. of 5 runs, 10 loops each)\n",
      "401 µs ± 64.8 µs per loop (mean ± std. dev. of 5 runs, 10 loops each)\n",
      "339 µs ± 32.4 µs per loop (mean ± std. dev. of 5 runs, 10 loops each)\n",
      "337 µs ± 44.9 µs per loop (mean ± std. dev. of 5 runs, 10 loops each)\n",
      "312 µs ± 8.24 µs per loop (mean ± std. dev. of 5 runs, 10 loops each)\n",
      "468 µs ± 134 µs per loop (mean ± std. dev. of 5 runs, 10 loops each)\n",
      "417 µs ± 44.7 µs per loop (mean ± std. dev. of 5 runs, 10 loops each)\n"
     ]
    },
    {
     "data": {
      "image/png": "[encoded data removed]",
      "text/plain": [
       "<Figure size 432x288 with 1 Axes>"
      ]
     },
     "metadata": {
      "needs_background": "light"
     },
     "output_type": "display_data"
    }
   ],
   "source": [
    "N = 500\n",
    "time = []\n",
    "mistake = []\n",
    "x = []\n",
    "norm = []\n",
    "for i in range(1, N, 50):\n",
    "    x.append(i)\n",
    "    saved_timing_4 = %timeit -r 5 -n 10 -o sp.sparse.linalg.cg(A3, b3, maxiter=i)\n",
    "    time.append(saved_timing_4.average)\n",
    "    mistake.append(saved_timing_4.stdev)\n",
    "    \n",
    "plt.errorbar(x, time, yerr=mistake, marker='o',linestyle=\"None\")\n",
    "plt.grid()\n",
    "plt.xlabel('Liczba iteracji'), plt.ylabel('Czas [s]')\n",
    "plt.title('Czas wykonania metody gradientów sprzężonych dla macierzy symetrycznej')\n",
    "plt.show()"
   ]
  },
  {
   "cell_type": "code",
   "execution_count": 64,
   "metadata": {},
   "outputs": [
    {
     "data": {
      "image/png": "[encoded data removed]",
      "text/plain": [
       "<Figure size 432x288 with 1 Axes>"
      ]
     },
     "metadata": {
      "needs_background": "light"
     },
     "output_type": "display_data"
    }
   ],
   "source": [
    "N = 20\n",
    "norm = []\n",
    "x = []\n",
    "for i in range(1, N):\n",
    "    x.append(i)\n",
    "    x3, _ = sp.sparse.linalg.cg(A3, b3, maxiter=i)\n",
    "    norm.append(res_norm(A3, x3, b3))\n",
    "    \n",
    "plt.plot(x, norm, 'o')\n",
    "plt.grid()\n",
    "plt.yscale('log')\n",
    "plt.xlabel('Liczba iteracji')\n",
    "plt.ylabel('norma residuum')\n",
    "plt.title('Norma metody gradientów sprzężoncyh dla macierzy symetrycznej')\n",
    "plt.show()"
   ]
  },
  {
   "cell_type": "code",
   "execution_count": 32,
   "metadata": {},
   "outputs": [
    {
     "name": "stdout",
     "output_type": "stream",
     "text": [
      "571 µs ± 112 µs per loop (mean ± std. dev. of 5 runs, 10 loops each)\n",
      "422 µs ± 111 µs per loop (mean ± std. dev. of 5 runs, 10 loops each)\n",
      "275 µs ± 9.09 µs per loop (mean ± std. dev. of 5 runs, 10 loops each)\n",
      "284 µs ± 15.5 µs per loop (mean ± std. dev. of 5 runs, 10 loops each)\n",
      "295 µs ± 39.5 µs per loop (mean ± std. dev. of 5 runs, 10 loops each)\n",
      "291 µs ± 37.6 µs per loop (mean ± std. dev. of 5 runs, 10 loops each)\n",
      "396 µs ± 139 µs per loop (mean ± std. dev. of 5 runs, 10 loops each)\n",
      "340 µs ± 25.3 µs per loop (mean ± std. dev. of 5 runs, 10 loops each)\n",
      "319 µs ± 18.9 µs per loop (mean ± std. dev. of 5 runs, 10 loops each)\n",
      "321 µs ± 12.6 µs per loop (mean ± std. dev. of 5 runs, 10 loops each)\n"
     ]
    },
    {
     "data": {
      "image/png": "[encoded data removed]",
      "text/plain": [
       "<Figure size 432x288 with 1 Axes>"
      ]
     },
     "metadata": {
      "needs_background": "light"
     },
     "output_type": "display_data"
    }
   ],
   "source": [
    "N = 1000\n",
    "time = []\n",
    "mistake = []\n",
    "x = []\n",
    "norm = []\n",
    "for i in range(1, N, 100):\n",
    "    x.append(i)\n",
    "    saved_timing_4 = %timeit -r 5 -n 10 -o gmres(A3, b3, maxiter=i)\n",
    "    time.append(saved_timing_4.average)\n",
    "    mistake.append(saved_timing_4.stdev)\n",
    "    \n",
    "plt.errorbar(x, time, yerr=mistake, marker='o',linestyle=\"None\")\n",
    "plt.grid()\n",
    "plt.xlabel('Liczba iteracji'), plt.ylabel('Czas [s]')\n",
    "plt.title('Czas wykonania GMRES dla macierzy symetrycznej')\n",
    "plt.show()"
   ]
  },
  {
   "cell_type": "code",
   "execution_count": 65,
   "metadata": {},
   "outputs": [
    {
     "data": {
      "image/png": "[encoded data removed]",
      "text/plain": [
       "<Figure size 432x288 with 1 Axes>"
      ]
     },
     "metadata": {
      "needs_background": "light"
     },
     "output_type": "display_data"
    }
   ],
   "source": [
    "N = 15\n",
    "norm = []\n",
    "x = []\n",
    "for i in range(1, N):\n",
    "    x.append(i)\n",
    "    x4, _ = gmres(A3, b3, maxiter=i)\n",
    "    norm.append(res_norm(A3, x4, b3))\n",
    "    \n",
    "plt.plot(x, norm, 'o')\n",
    "plt.grid()\n",
    "plt.yscale('log')\n",
    "plt.xlabel('Liczba iteracji')\n",
    "plt.ylabel('norma residuum')\n",
    "plt.title('Norma GMRES dla macierzy symetrycznej')\n",
    "plt.show()"
   ]
  },
  {
   "cell_type": "markdown",
   "metadata": {},
   "source": [
    "Wnioski:\n",
    "Ze wszystkich funkcji możemy zauważyć, że najszybciej wykonuje się wbudowana funkcja solve. \n",
    "Czas wykonania napisanej funkcji solve_jacobi rośnie wraz z każdą iteracją, a norma residuum już po 4 interacjach spada do zera maszynowego. Co do metody GMRES lub gradientów sprzężonych to są nieco wolniejsze i mniej wydajne."
   ]
  },
  {
   "cell_type": "markdown",
   "metadata": {},
   "source": [
    "Materiały uzupełniające:\n",
    "- [Scipy Lecture Notes](http://www.scipy-lectures.org/index.html)\n",
    "- [NumPy for Matlab users](https://docs.scipy.org/doc/numpy/user/numpy-for-matlab-users.html#numpy-for-matlab-users)\n",
    "- [Python Tutorial - W3Schools](https://www.w3schools.com/python/default.asp)\n",
    "- [NumPy](https://www.numpy.org)\n",
    "- [Matplotlib](https://matplotlib.org/)\n",
    "- [Anaconda](https://www.anaconda.com/)\n",
    "- [Learn Python for Data Science](https://www.datacamp.com/learn-python-with-anaconda?utm_source=Anaconda_download&utm_campaign=datacamp_training&utm_medium=banner)\n",
    "- [Learn Python](https://www.learnpython.org/)\n",
    "- [Wujek Google](https://google.pl) i [Ciocia Wikipedia](https://pl.wikipedia.org/wiki/Wikipedia:Strona_g%C5%82%C3%B3wna)"
   ]
  }
 ],
 "metadata": {
  "kernelspec": {
   "display_name": "Python 3 (ipykernel)",
   "language": "python",
   "name": "python3"
  },
  "language_info": {
   "codemirror_mode": {
    "name": "ipython",
    "version": 3
   },
   "file_extension": ".py",
   "mimetype": "text/x-python",
   "name": "python",
   "nbconvert_exporter": "python",
   "pygments_lexer": "ipython3",
   "version": "3.8.5"
  }
 },
 "nbformat": 4,
 "nbformat_minor": 2
}
