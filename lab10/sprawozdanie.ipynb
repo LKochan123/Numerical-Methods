{
 "cells": [
  {
   "cell_type": "markdown",
   "metadata": {},
   "source": [
    "# <center>Laboratorium 10<br>Metody Numeryczne</center>"
   ]
  },
  {
   "cell_type": "markdown",
   "metadata": {},
   "source": [
    "Instrukcja:  \n",
    "Na zajęciach należy wykonać poniższe zadania, uzupełnić plik main.py, wykonać test na platformie github, a następnie sporządzić sprawozdanie zawierające odpowiedzi z komentarzami."
   ]
  },
  {
   "cell_type": "markdown",
   "metadata": {},
   "source": [
    "***Materiały przygotowujące:***\n"
   ]
  },
  {
   "cell_type": "code",
   "execution_count": 1,
   "metadata": {},
   "outputs": [],
   "source": [
    "import main\n",
    "import numpy as np\n",
    "import scipy\n",
    "import matplotlib\n",
    "import matplotlib.pyplot as plt\n",
    "import scipy.linalg\n",
    "from numpy.polynomial import polynomial as P"
   ]
  },
  {
   "cell_type": "markdown",
   "metadata": {},
   "source": [
    "**Cel zajęć:** Celem zajęć jest zapoznanie się z numerycznymi metodami rozwiązywania równań nieliniowych lub inaczej mówiąc metodami znajdowania miejsc zerowych funkcji.\n",
    "W związku z tym podczas zajęć będziemy rozważać następujący problem:\n",
    "\n",
    "Dana jest funkcja $f(x)$, należy wyznaczyć argumenty funkcji $x$, dla których $f(x) = 0$ (funkcja jest równa zero). \n",
    "\n",
    "Argumenty $x^*$, dla których $f(x)=0$ nazywamy *pierwiastkami*.\n",
    "\n",
    "Funkcja i jej pochodne zostały zaimplementowane w *main.py*"
   ]
  },
  {
   "cell_type": "markdown",
   "metadata": {},
   "source": [
    "***Zadanie 1.***  \n",
    "Dany jest wielomian postaci $W(x)=(x-1)(x-2)\\cdot \\ldots \\cdot (x-20)$.\n",
    "\n",
    "1. Zdefinuj funkcję *polly_A*, która obliczy współczynniki wielomianu $a_i$ w postaci ogólnej wielomianu $w(x)=a_nx^n+\\ldots +a_2x^2+a_1x+1$. Skonstruuj wektor tych współczynników. Użyj funkcji [polyfromroots](https://docs.scipy.org/doc/numpy-1.13.0/reference/generated/numpy.polynomial.polynomial.polyfromroots.html#numpy.polynomial.polynomial.polyfromroots) oraz *linspace*.\n",
    "2. Zdefinuj funkcję *roots_20*, która w pętli 20 iteracji będzie:  \n",
    "\n",
    "   i. konstruować wektor współczynników nowego wielomianu w następujący sposób: do każdego wygenerowanego wektora współczynników dodać losową wartość w postaci $(10^{-10})N(0,1)$. Użyj funkcji [random_sample](https://docs.scipy.org/doc/numpy-1.15.1/reference/generated/numpy.random.random_sample.html#numpy.random.random_sample).  \n",
    "  ii. wyliczyać pierwiaski tego wielomianu za pomocą metody [polyroots](https://docs.scipy.org/doc/numpy/reference/generated/numpy.polynomial.polynomial.polyroots.html#numpy.polynomial.polynomial.polyroots).\n",
    "\n",
    "3. Narysuj na wykresie te pierwiastki (w każdej iteracji dorysowywać pierwiastki na tym samym rysunku).\n",
    "4. Określić, który pierwiastek jest najbardziej wrażliwy na zaburzenia.\n",
    "5. Zaproponować sposób oszacowania uwarunkowania każdego z pierwiastków."
   ]
  },
  {
   "cell_type": "code",
   "execution_count": 2,
   "metadata": {},
   "outputs": [
    {
     "data": {
      "image/png": "[encoded data removed]",
      "text/plain": [
       "<Figure size 432x288 with 1 Axes>"
      ]
     },
     "metadata": {
      "needs_background": "light"
     },
     "output_type": "display_data"
    }
   ],
   "source": [
    "w_x = np.linspace(1, 20, 20) #miejsca zerowe\n",
    "n_x = main.polly_A(w_x) #współczynniki wielomianu\n",
    "\n",
    "iter = []\n",
    "\n",
    "for i in range(20):\n",
    "    A, x0 = main.roots_20(n_x)\n",
    "    iter.append(x0)\n",
    "    \n",
    "plt.boxplot(np.real(iter))\n",
    "plt.grid()\n",
    "plt.show()"
   ]
  },
  {
   "cell_type": "markdown",
   "metadata": {},
   "source": [
    "***Zadanie 2.***  \n",
    "Dany jest wielomian $w_1(x)=(x-1)^8$. Wyznacz numerycznie miejsca zerowego tego wielomianu poprzez wyznaczenie wartości własnych macierzy Frobeniusa. W związku z tym wykonaj następujące czynności:  \n",
    "\n",
    "1. Zaiplementuj funkcję tworzącą [macierz Frobenusa](https://github.com/KAIR-ISZ/public_lectures/blob/master/Metody%20Numeryczne%202019/Lecture%204%20(nonlinear%20equations)/Metody%20numeryczne%202019%20-%20R%C3%B3wnania%20nieliniowe.pdf) *frob_a*, dla zadanego wektora współczynników wielomianu $w(x)$.  \n",
    "2. Wyznacz wartości własne przekształconej macierzy za pomocą funkcji [eigvals](https://docs.scipy.org/doc/numpy/reference/generated/numpy.linalg.eigvals.html#numpy.linalg.eigvals).  \n",
    "3. Dokonaj rozkładu Schura macierzy zdefiniowanej w punkcie 1. użyj funkcji [schure](https://docs.scipy.org/doc/scipy-0.14.0/reference/generated/scipy.linalg.schur.html#scipy.linalg.schur).  \n",
    "4. Porównaj wyniki z funkcją polyroots."
   ]
  },
  {
   "cell_type": "code",
   "execution_count": 55,
   "metadata": {},
   "outputs": [
    {
     "data": {
      "image/png": "[encoded data removed]",
      "text/plain": [
       "<Figure size 432x288 with 1 Axes>"
      ]
     },
     "metadata": {
      "needs_background": "light"
     },
     "output_type": "display_data"
    }
   ],
   "source": [
    "w1_x = np.array([1]*8)\n",
    "x0_1 = main.polly_A(w1_x)\n",
    "\n",
    "frobenious_matrix, eig_vector, schure_vector, x0_vector = main.frob_a(x0_1[:-1])\n",
    "\n",
    "x = np.arange(3)\n",
    "eigs = np.sort(eig_vector)\n",
    "schure = np.sort(np.diag(schure_vector[0]))\n",
    "roots = np.sort(P.polyroots(x0_1))\n",
    "\n",
    "\n",
    "error = [np.linalg.norm(roots - eigs), np.linalg.norm(roots - w1_x), np.linalg.norm(roots - schure)]\n",
    "\n",
    "plt.bar(x, error)\n",
    "plt.ylabel('Wartość błędu')\n",
    "plt.xticks(x, ('Wartości własne','Analitycznie', 'Rozkład Shura'))\n",
    "plt.title('Porównanie wyników z polyroots')\n",
    "plt.grid()\n",
    "plt.show()"
   ]
  },
  {
   "cell_type": "markdown",
   "metadata": {},
   "source": [
    "Najbardziej dokładny jest rozkład Schura. "
   ]
  },
  {
   "cell_type": "markdown",
   "metadata": {},
   "source": [
    "***Zadanie 3.***  \n",
    "Dla danego wielomianu $w_2(x) = 243x^7-486x^6+783x^5-990x^4+558x^3-28x^2-72x+16$ wyznacz miejsca zerowe numerycznie, w taki sam sposób jak w zadaniu 2.\n"
   ]
  },
  {
   "cell_type": "code",
   "execution_count": 54,
   "metadata": {},
   "outputs": [
    {
     "name": "stdout",
     "output_type": "stream",
     "text": [
      "Miejsca zerowe: [-3.33333333e-01+0.00000000e+00j -6.45317133e-16-1.41421356e+00j\n",
      " -6.45317133e-16+1.41421356e+00j  3.33333333e-01+0.00000000e+00j\n",
      "  6.66663880e-01+0.00000000e+00j  6.66668060e-01-2.41373267e-06j\n",
      "  6.66668060e-01+2.41373267e-06j]\n",
      "Wartośći własne: [-0.33333333+0.00000000e+00j  0.        -1.41421356e+00j\n",
      "  0.        +1.41421356e+00j  0.33333333+0.00000000e+00j\n",
      "  0.66666413-4.39477175e-06j  0.66666413+4.39477175e-06j\n",
      "  0.66667174+0.00000000e+00j]\n",
      "Rozkład Schura [-3.33333333e-01 -2.63677968e-16 -2.63677968e-16  3.33333333e-01\n",
      "  6.66662323e-01  6.66662323e-01  6.66675355e-01]\n"
     ]
    }
   ],
   "source": [
    "w2_x = np.array([243, -486, 783, -990, 558, -28, -72, 16])\n",
    "good_w2_x = w2_x[::-1] #powinno być od najmniejszej do największej potęgi\n",
    "good = good_w2_x/good_w2_x[len(w2_x)-1] #przy najwyżej potędze musi stać 1 więc dzielimi przez 243\n",
    "\n",
    "w2_x0 = P.polyroots(good_w2_x)\n",
    "frobenious_matrix, eig_vector, schure_vector, x0_vector = main.frob_a(good[:-1])\n",
    "\n",
    "print(f'Miejsca zerowe: {np.sort(w2_x0)}')\n",
    "print(f'Wartośći własne: {np.sort(eig_vector)}')\n",
    "print(f'Rozkład Schura {np.sort(np.diag(schure_vector[0]))}') #tylko części rzeczywiste"
   ]
  },
  {
   "cell_type": "markdown",
   "metadata": {},
   "source": [
    "Możemy zauważyć, że otrzymane 3 zestawy wyników miejsc zerowych są do siebie zbliżone. Oczywiście z pewnymi błędami numerycznimi, ale możemy przypuszczać, iż są poprawne."
   ]
  },
  {
   "cell_type": "markdown",
   "metadata": {},
   "source": [
    "***Zadanie 4.***\n",
    "\n",
    "Dany jest wielomian: \n",
    "$$\n",
    "w_3(x)= x^5 - 156x^4 - 5x^3 + 780x^2 + 4x - 624\n",
    "$$.\n",
    " Wiedząc, że wielomian ten w postaci szeregu Czebyszewa jest następujący \n",
    " $$w_3(x)= (a_0+\\frac{a_2}{2}+ \\frac{3a_4}{4})T_0(x)+(a_1+\\frac{3a_3}{4}+ \\frac{5a_5}{8})T_1(x)+(\\frac{a_2}{2}+ \\frac{a_4}{4})T_2(x)+(\\frac{a_3}{4}+ \\frac{5a_5}{16})T_3(x)+ (\\frac{a_4}{8})T_4 + (\\frac{a_5}{16})T_5(x)$$ \n",
    " znajdź pierwiastki wykorzystując funkcję [chebroots](https://numpy.org/doc/stable/reference/generated/numpy.polynomial.chebyshev.chebroots.html)."
   ]
  },
  {
   "cell_type": "code",
   "execution_count": 73,
   "metadata": {},
   "outputs": [
    {
     "name": "stdout",
     "output_type": "stream",
     "text": [
      "Miejsca zerowe (polyroots): [ -2.  -1.   1.   2. 156.]\n",
      "Miejsca zerowe (chebroots): [ -2.1113158   -1.01778383   1.01798385   2.11432153 155.99679425]\n"
     ]
    }
   ],
   "source": [
    "import numpy.polynomial.chebyshev as cheb\n",
    "\n",
    "a = np.array([-624, 4, 780, -5, -156, 1])\n",
    "w3_x0 = P.polyroots(w3_x)\n",
    "\n",
    "cheb_rank = np.array([a[0] + a[2]/2 + 3*a[4]/4, a[1] + 3*a[3]/4 + 5*a[5]/8, a[2]/2 + a[4]/4, a[3]/4 + 5*a[5]/16,a[4]/8, a[5]/16])\n",
    "\n",
    "k = cheb.chebroots((cheb_rank))\n",
    "\n",
    "print(f'Miejsca zerowe (polyroots): {w3_x0}')\n",
    "print(f'Miejsca zerowe (chebroots): {k}')"
   ]
  }
 ],
 "metadata": {
  "kernelspec": {
   "display_name": "Python 3 (ipykernel)",
   "language": "python",
   "name": "python3"
  },
  "language_info": {
   "codemirror_mode": {
    "name": "ipython",
    "version": 3
   },
   "file_extension": ".py",
   "mimetype": "text/x-python",
   "name": "python",
   "nbconvert_exporter": "python",
   "pygments_lexer": "ipython3",
   "version": "3.8.5"
  }
 },
 "nbformat": 4,
 "nbformat_minor": 2
}
