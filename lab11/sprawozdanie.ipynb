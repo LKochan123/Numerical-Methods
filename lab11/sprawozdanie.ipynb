{
 "cells": [
  {
   "cell_type": "markdown",
   "metadata": {},
   "source": [
    "# <center>Laboratorium 11<br>Metody Numeryczne</center>"
   ]
  },
  {
   "cell_type": "markdown",
   "metadata": {},
   "source": [
    "Instrukcja:  \n",
    "Na zajęciach należy wykonać poniższe zadania, a następnie sporządzić sprawozdanie zawierające odpowiedzi z komentarzami."
   ]
  },
  {
   "cell_type": "code",
   "execution_count": 2,
   "metadata": {},
   "outputs": [],
   "source": [
    "import numpy as np\n",
    "import scipy as sp\n",
    "import matplotlib\n",
    "import matplotlib.pyplot as plt\n",
    "import scipy.linalg\n",
    "import scipy.integrate"
   ]
  },
  {
   "cell_type": "markdown",
   "metadata": {},
   "source": [
    "**Cel zajęć:**  \n",
    "Celem zajęć jest zapoznanie się z metodami całkowania numerycznego funkcji:  \n",
    "$$\n",
    "\\int\\limits_{a}^{b}f(x)dx \n",
    "$$  \n",
    "\n",
    "Dana jest funkcja $f(x)$, należy wyznaczyć wartość całki tej funkcji na przedziale $a$,$b$.\n"
   ]
  },
  {
   "cell_type": "markdown",
   "metadata": {},
   "source": [
    "***Zadanie 1.***    \n",
    "Wyznacz numerycznie wartość całki:   \n",
    "$$\n",
    "\\int\\limits_{a}^{b}\\log(1+\\tan(x))dx \n",
    "$$\n",
    "\n",
    "Wykonaj następujące czynności:\n",
    "\n",
    "1. Czy możliwe jest całkowanie podanej funkcji na dowolnym przedziale? Swoją odpowiedź uzasadnij.\n",
    "2. Oblicz całkę numerycznie na przedziale $a =0$, $b=\\cfrac{\\pi}{4}$ przy pomocy następujących metod:  \n",
    "    1. Metoda Trapezów - [trapz](https://docs.scipy.org/doc/scipy/reference/generated/scipy.integrate.trapz.html#scipy.integrate.trapz)\n",
    "    2. Metoda Simpsona - [simps](https://docs.scipy.org/doc/scipy/reference/generated/scipy.integrate.simps.html#scipy.integrate.simps) \n",
    "    3. Metoda Romberga - [romb](https://docs.scipy.org/doc/scipy/reference/generated/scipy.integrate.romb.html#scipy.integrate.romb)  \n",
    "  \n",
    "Sprawdź jak wyniki róźnią się od siebie, czy ma na nie wpływ długość wektora $\\mathbf{y}$ oraz wartość parametru $dx$\n",
    "\n",
    "3. Porównaj wyniki i czas obliczeń z punktu 1 z funkcjami:\n",
    "    1. [quad](https://docs.scipy.org/doc/scipy/reference/generated/scipy.integrate.quad.html#scipy-integrate-quad)\n",
    "    2. [romberg](https://docs.scipy.org/doc/scipy/reference/generated/scipy.integrate.romberg.html#scipy.integrate.romberg)\n",
    "    3. [quadrature](https://docs.scipy.org/doc/scipy/reference/generated/scipy.integrate.quadrature.html#scipy.integrate.quadrature)"
   ]
  },
  {
   "cell_type": "markdown",
   "metadata": {},
   "source": [
    "Odpowiedź (1): \n",
    "Całkowanie podanej funkcji na dowolnym przedziale nie jest możliwe, ponieważ funkcja w całej swojej dziedzinie nie jest ciągła. Jednak podany przedział w zadaniu spełnia nasze warunki. "
   ]
  },
  {
   "cell_type": "code",
   "execution_count": 93,
   "metadata": {},
   "outputs": [
    {
     "name": "stderr",
     "output_type": "stream",
     "text": [
      "C:\\Users\\kocha\\AppData\\Local\\Temp/ipykernel_14580/3097419870.py:1: RuntimeWarning: invalid value encountered in log\n",
      "  f1 = lambda x: np.log(1+np.tan(x))\n"
     ]
    },
    {
     "data": {
      "image/png": "[encoded data removed]",
      "text/plain": [
       "<Figure size 432x288 with 1 Axes>"
      ]
     },
     "metadata": {
      "needs_background": "light"
     },
     "output_type": "display_data"
    }
   ],
   "source": [
    "f1 = lambda x: np.log(1+np.tan(x))\n",
    "x1 = np.arange(0, 10, 0.01)\n",
    "\n",
    "plt.plot(x1, f1(x1))\n",
    "plt.grid()\n",
    "plt.show()"
   ]
  },
  {
   "cell_type": "code",
   "execution_count": 37,
   "metadata": {},
   "outputs": [
    {
     "name": "stdout",
     "output_type": "stream",
     "text": [
      "Wynik dla dx = 0.5 -> 0.10896664767311852\n",
      "Wynik dla dx = 0.3 -> 0.15904407163030085\n",
      "Wynik dla dx = 0.1 -> 0.2164958063673104\n",
      "Wynik dla dx = 0.01 -> 0.26847103905557407\n",
      "Wynik dla dx = 0.001 -> 0.27192235467498227\n"
     ]
    }
   ],
   "source": [
    "#Metoda trapezów\n",
    "from scipy import integrate\n",
    "\n",
    "dx = [0.5, 0.3, 0.1, 0.01, 0.001]\n",
    "\n",
    "for j in dx:\n",
    "    x = np.arange(0, np.pi/4, j)\n",
    "    z = sp.integrate.trapz(f1(x), x)\n",
    "    print(f'Wynik dla dx = {j} -> {z}')"
   ]
  },
  {
   "cell_type": "code",
   "execution_count": 36,
   "metadata": {},
   "outputs": [
    {
     "name": "stdout",
     "output_type": "stream",
     "text": [
      "Wynik dla dx = 0.5 -> 0.10896664767311852\n",
      "Wynik dla dx = 0.3 -> 0.15993344691091152\n",
      "Wynik dla dx = 0.1 -> 0.2165446317805566\n",
      "Wynik dla dx = 0.01 -> 0.26847108355246846\n",
      "Wynik dla dx = 0.001 -> 0.27192235470806986\n"
     ]
    }
   ],
   "source": [
    "#Metoda simpsona\n",
    "for i in dx:\n",
    "    x = np.arange(0, np.pi/4, i)\n",
    "    k = integrate.simpson(f1(x), x)\n",
    "    print(f'Wynik dla dx = {i} -> {k}')"
   ]
  },
  {
   "cell_type": "code",
   "execution_count": 55,
   "metadata": {},
   "outputs": [
    {
     "name": "stdout",
     "output_type": "stream",
     "text": [
      "Wynika dla y = 2 -> 0.13609913064397514\n",
      "Wynika dla y = 3 -> 0.18146550752530016\n",
      "Wynika dla y = 5 -> 0.2177586090303602\n",
      "Wynika dla y = 9 -> 0.2419540100337336\n",
      "Wynika dla y = 17 -> 0.2561865988592473\n",
      "Wynika dla y = 33 -> 0.26394982912770937\n",
      "Wynika dla y = 65 -> 0.2680105957296741\n"
     ]
    }
   ],
   "source": [
    "#Metoda Romberga\n",
    "for dx in range(0, 7):\n",
    "    x = np.linspace(0, np.pi/4, 2**dx + 1)\n",
    "    kappa = sp.integrate.romb(f1(x), dx=np.pi/4/(2**dx + 1))\n",
    "    print(f'Wynika dla y = {2**dx+1} -> {kappa}')"
   ]
  },
  {
   "cell_type": "markdown",
   "metadata": {},
   "source": [
    "Dla metody trapezów i Simpsona możemy zauważyć, że im mniejsza wartość parametru dx tym wynik jest dokładniejszy. Tak samo w metodzie Romberga im dłuższy wektor y tym wynik jest dokładniejszy. Także ostateczny wynik policzonej całki zależy od tych parametrów. "
   ]
  },
  {
   "cell_type": "code",
   "execution_count": 75,
   "metadata": {},
   "outputs": [
    {
     "name": "stdout",
     "output_type": "stream",
     "text": [
      "(0.27219826128795027, 3.022007769448168e-15)\n",
      "111 µs ± 21.5 µs per loop (mean ± std. dev. of 7 runs, 10000 loops each)\n"
     ]
    }
   ],
   "source": [
    "#Integrate.quad wynik i błąd\n",
    "print(integrate.quad(f1, 0, np.pi/4))\n",
    "\n",
    "%timeit integrate.quad(f1, 0, np.pi/4)"
   ]
  },
  {
   "cell_type": "code",
   "execution_count": 76,
   "metadata": {},
   "outputs": [
    {
     "name": "stdout",
     "output_type": "stream",
     "text": [
      "0.27219826128795016\n",
      "47.3 µs ± 5.39 µs per loop (mean ± std. dev. of 7 runs, 10000 loops each)\n"
     ]
    }
   ],
   "source": [
    "#Romberg wynik\n",
    "result = integrate.romberg(f1, 0, np.pi/4)\n",
    "print(result)\n",
    "\n",
    "%timeit integrate.romberg(f1, 0, np.pi/4)"
   ]
  },
  {
   "cell_type": "code",
   "execution_count": 77,
   "metadata": {},
   "outputs": [
    {
     "name": "stdout",
     "output_type": "stream",
     "text": [
      "(0.27219826128795027, 5.551115123125783e-17)\n",
      "71.3 µs ± 17.6 µs per loop (mean ± std. dev. of 7 runs, 10000 loops each)\n"
     ]
    }
   ],
   "source": [
    "#Quadrature wynik i błąd\n",
    "print(integrate.quadrature(f1, 0, np.pi/4))\n",
    "\n",
    "%timeit integrate.quadrature(f1, 0, np.pi/4)"
   ]
  },
  {
   "cell_type": "markdown",
   "metadata": {},
   "source": [
    "Możemy zauważyć, że wszystkie 3 funkcje zwwróciły zbliżony wynik. Jest on stosunkowo bliski najdokładniejszym wynikom z porzedniego podpunktu stąd możemy przypuszczać, że obliczenia zostały wykonane poprawne. Co da czasu to najszybciej wykonuje się funkcja romberga, jednak najbardziej dokładna jest metoda quadrature."
   ]
  },
  {
   "cell_type": "markdown",
   "metadata": {},
   "source": [
    "***Zadanie 2.***  \n",
    "Dla funkcji \n",
    "\n",
    "$$f(x) = e^{x^2}$$\n",
    "\n",
    "wyznacz numerycznie wartośc całki na przedziale $a = 0$, $b=1$  w  taki sam sposób jak w zadaniu 1."
   ]
  },
  {
   "cell_type": "code",
   "execution_count": 87,
   "metadata": {},
   "outputs": [
    {
     "data": {
      "image/png": "[encoded data removed]",
      "text/plain": [
       "<Figure size 432x288 with 1 Axes>"
      ]
     },
     "metadata": {
      "needs_background": "light"
     },
     "output_type": "display_data"
    }
   ],
   "source": [
    "f2 = lambda x: np.exp(x**2)\n",
    "x = np.linspace(0, 1)\n",
    "\n",
    "plt.plot(x, f2(x))\n",
    "plt.grid()\n",
    "plt.title(\"exp(x^2)\")\n",
    "plt.show()"
   ]
  },
  {
   "cell_type": "code",
   "execution_count": 120,
   "metadata": {},
   "outputs": [
    {
     "data": {
      "image/png": "[encoded data removed]",
      "text/plain": [
       "<Figure size 432x288 with 1 Axes>"
      ]
     },
     "metadata": {
      "needs_background": "light"
     },
     "output_type": "display_data"
    },
    {
     "name": "stdout",
     "output_type": "stream",
     "text": [
      "Wynik quad: 1.4626517459071815\n"
     ]
    },
    {
     "data": {
      "image/png": "[encoded data removed]",
      "text/plain": [
       "<Figure size 432x288 with 1 Axes>"
      ]
     },
     "metadata": {
      "needs_background": "light"
     },
     "output_type": "display_data"
    }
   ],
   "source": [
    "quadrature, quadrature_err = integrate.quadrature(f2, 0, 1)\n",
    "quad, quad_err = integrate.quad(f2, 0, 1)\n",
    "romberg = integrate.romberg(f2, 0, 1)\n",
    "\n",
    "labels = ['quadrature', 'quad', 'romberg']\n",
    "values = [quadrature, quad, romberg]\n",
    "\n",
    "lbl = ['quadrature', 'quad']\n",
    "vls = [quadrature_err, quad_err]\n",
    "\n",
    "plt.bar(labels, values)\n",
    "plt.grid()\n",
    "plt.title('Wynik całki exp(x^2)')\n",
    "plt.show()\n",
    "\n",
    "print(f'Wynik quad: {quad}')\n",
    "\n",
    "plt.bar(lbl, vls)\n",
    "plt.grid()\n",
    "plt.yscale('log')\n",
    "plt.title('Błąd funkcji')\n",
    "plt.show()"
   ]
  }
 ],
 "metadata": {
  "kernelspec": {
   "display_name": "Python 3 (ipykernel)",
   "language": "python",
   "name": "python3"
  },
  "language_info": {
   "codemirror_mode": {
    "name": "ipython",
    "version": 3
   },
   "file_extension": ".py",
   "mimetype": "text/x-python",
   "name": "python",
   "nbconvert_exporter": "python",
   "pygments_lexer": "ipython3",
   "version": "3.8.5"
  }
 },
 "nbformat": 4,
 "nbformat_minor": 4
}
