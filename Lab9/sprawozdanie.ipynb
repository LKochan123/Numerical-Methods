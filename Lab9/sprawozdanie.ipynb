{
 "cells": [
  {
   "cell_type": "markdown",
   "metadata": {},
   "source": [
    "# <center>Laboratorium 9<br>Metody Numeryczne</center>"
   ]
  },
  {
   "cell_type": "markdown",
   "metadata": {},
   "source": [
    "Instrukcja:  \n",
    "Na zajęciach należy wykonać poniższe zadania, a następnie sporządzić sprawozdanie zawierające odpowiedzi (w postaci kodu) z komentarzami w środowisku Jupyter Notebook i umieścić je na platformie e-learningowej."
   ]
  },
  {
   "cell_type": "markdown",
   "metadata": {},
   "source": [
    "***Materiały przygotowujące:***\n"
   ]
  },
  {
   "cell_type": "code",
   "execution_count": 8,
   "metadata": {},
   "outputs": [
    {
     "data": {
      "text/plain": [
       "485165294.4097903"
      ]
     },
     "execution_count": 8,
     "metadata": {},
     "output_type": "execute_result"
    }
   ],
   "source": [
    "import main\n",
    "import numpy as np\n",
    "import scipy\n",
    "import matplotlib\n",
    "import matplotlib.pyplot as plt\n",
    "import math\n",
    "import dill\n",
    "\n",
    "expected = dill.load(open('expected','rb'))\n",
    "\n",
    "results_bisection = expected['bisection']\n",
    "f = results_bisection[12][2]\n",
    "a = results_bisection[12][1]\n",
    "\n",
    "f(a)"
   ]
  },
  {
   "cell_type": "markdown",
   "metadata": {},
   "source": [
    "***Temat główny:***\n",
    "\n",
    "Znajdź miejsca zerowe funkcji: \n",
    "$$ \n",
    "f(x) = e^{-2x} + x^2 - 1 \n",
    "$$,\n",
    "\n",
    "metodami:\n",
    "* Bisekcji,\n",
    "* Siecznych,\n",
    "* Newtona\n",
    "\n",
    "Funkcja i jej pochodne zostały zaimplementowane w *main.py*"
   ]
  },
  {
   "cell_type": "markdown",
   "metadata": {},
   "source": [
    "***Zadanie 1.***  \n",
    "Wykonaj wykres funckji oraz jej pierwszej i drugiej pochodnej (obliczonej analitycznie) na jednym rysunku w przedziale pozwalającym na zgrubne określenie miejsc zerowych. Wykres powinien być odpowiednio opisany. Określ przedział miejsca zerowego."
   ]
  },
  {
   "cell_type": "code",
   "execution_count": 40,
   "metadata": {},
   "outputs": [
    {
     "data": {
      "image/png": "[encoded data removed]",
      "text/plain": [
       "<Figure size 432x288 with 1 Axes>"
      ]
     },
     "metadata": {
      "needs_background": "light"
     },
     "output_type": "display_data"
    }
   ],
   "source": [
    "x = np.linspace(-0.5, 3, 100)\n",
    "plt.plot(x, main.fun(x), label='f')\n",
    "plt.plot(x, main.dfun(x), label='df')\n",
    "plt.plot(x, main.ddfun(x), label='ddf')\n",
    "plt.grid()\n",
    "plt.legend(loc=9)\n",
    "plt.xlabel('x')\n",
    "plt.ylabel('y')\n",
    "plt.title('Wykres funkcji exp(-2x)+x^2-1 i jej pochodnych')\n",
    "plt.show()"
   ]
  },
  {
   "cell_type": "markdown",
   "metadata": {},
   "source": [
    "Z grubsza możemy określić, że nasza funkcja ma 2 miejsca zerowe. \n",
    "Pierwsze znajduję się na pewno w przedziale (-0.5, 0.25), a drugie (0.5, 2)."
   ]
  },
  {
   "cell_type": "markdown",
   "metadata": {},
   "source": [
    "***Zadanie 2.***  \n",
    "Zaimplementuj [metodę bisekcji](https://en.wikipedia.org/wiki/Bisection_method)\n",
    "\n",
    "Gwarancja zbieżności:\n",
    "\n",
    "1) funkcja jest ciągła na danym przedziale [a,b]\n",
    "\n",
    "2) funkcja na końcach przedziału przyjmuje przeciwne znaki"
   ]
  },
  {
   "cell_type": "markdown",
   "metadata": {},
   "source": [
    "***Zadanie 3.***  \n",
    "Zaimplementuj [metodę siecznych](https://en.wikipedia.org/wiki/Secant_method)\n",
    "\n",
    "Gwarancja zbieżności:\n",
    "\n",
    "1) funkcja jest ciągła na danym przedziale [a,b]\n",
    "\n",
    "2) Pierwsza i druga pochodna istnieją i są ciągłe w przedziale domkniętym [a,b]\n",
    "\n",
    "3) funkcja na końcach przedziału przyjmuje przeciwne znaki\n",
    "\n",
    "4) pierwsza i druga pochodna mają stały znak (brak eksremów lokalnych i punktów przegięcia)\n"
   ]
  },
  {
   "cell_type": "markdown",
   "metadata": {},
   "source": [
    "***Zadanie 4.***  \n",
    "Zaimplementuj [metodę Newtona](https://en.wikipedia.org/wiki/Newton%27s_method)\n",
    "\n",
    "Gwarancja zbieżności:\n",
    "\n",
    "1) funkcja jest ciągła na danym przedziale [a,b]\n",
    "\n",
    "2) Pierwsza i druga pochodna istnieją i są ciągłe w przedziale domkniętym [a,b]\n",
    "\n",
    "3) funkcja na końcach przedziału przyjmuje przeciwne znaki\n",
    "\n",
    "4) pierwsza i druga pochodna mają stały znak (brak eksremów lokalnych i punktów przegięcia)\n"
   ]
  },
  {
   "cell_type": "markdown",
   "metadata": {},
   "source": [
    "***Zadania 5.***  \n",
    "Dla głównej funkcji z zadania 1 znajdź miejsca zerowe przy użyciu:\n",
    "\n",
    "* funkcji root dostępnej w pakiecie scipy.optimize\n",
    "* funkcji fsolve dostępnej w pakiecie scipy.optimize\n"
   ]
  },
  {
   "cell_type": "code",
   "execution_count": 62,
   "metadata": {},
   "outputs": [
    {
     "name": "stdout",
     "output_type": "stream",
     "text": [
      "[0.         0.91656258]\n",
      "[0.         0.91656258]\n"
     ]
    }
   ],
   "source": [
    "from scipy import optimize\n",
    "from scipy.optimize import fsolve\n",
    "\n",
    "sol = optimize.root(main.fun, [0, 1])\n",
    "sol1 = fsolve(main.fun, [0, 1])\n",
    "\n",
    "print(sol.x)\n",
    "print(sol1)"
   ]
  },
  {
   "cell_type": "markdown",
   "metadata": {},
   "source": [
    "***Zadanie 6.***  \n",
    "Dla głównej funkcji oraz przedziału zdefiniowanego z zadania 1 znajdź miejsca zerowe przy użyciu:\n",
    "\n",
    "* metody bisekcji\n",
    "* metody siecznych\n",
    "* metody Newtona\n",
    "\n",
    "z tolerancją $10^{-10}$\n",
    "\n",
    "Zbadaj dokładność(względem rozwiązania z zadania 5) i czas obliczeń metod w zależności od liczby iteracji. Wyniki przedstaw na wykresach. "
   ]
  },
  {
   "cell_type": "code",
   "execution_count": 124,
   "metadata": {},
   "outputs": [
    {
     "name": "stdout",
     "output_type": "stream",
     "text": [
      "None\n",
      "(5.820766091346741e-11, 31)\n",
      "(0.9165625831228681, 32)\n"
     ]
    }
   ],
   "source": [
    "#Metoda bisekcji \n",
    "print(main.bisection(-0.5, 2, main.fun, 10**(-10), 100)) #Musimy pamiętać, żeby wybrać zakres w którym funkcja zmienia znak \n",
    "                                                         #stąd wynikiem jest None (w tym  przypadku).\n",
    "print(main.bisection(-0.5, 0.25, main.fun, 1e-10, 100))\n",
    "print(main.bisection(0.5, 2, main.fun, 1e-10, 100))"
   ]
  },
  {
   "cell_type": "code",
   "execution_count": 121,
   "metadata": {},
   "outputs": [
    {
     "name": "stdout",
     "output_type": "stream",
     "text": [
      "(4.6990406360014935e-11, 31)\n",
      "(0.9165625830609662, 29)\n"
     ]
    }
   ],
   "source": [
    "#Metoda siecznych\n",
    "print(main.secant(-0.5, 0.25, main.fun, 1e-10, 100))\n",
    "print(main.secant(0.5, 2, main.fun, 1e-10, 100))"
   ]
  },
  {
   "cell_type": "code",
   "execution_count": 122,
   "metadata": {},
   "outputs": [
    {
     "name": "stdout",
     "output_type": "stream",
     "text": [
      "(-5.125559246038141e-17, 5)\n",
      "(0.916562583105698, 5)\n"
     ]
    }
   ],
   "source": [
    "#Metoda newtona\n",
    "print(main.newton(main.fun, main.dfun, main.ddfun, -0.5, 0.25, 1e-10, 100))\n",
    "print(main.newton(main.fun, main.dfun, main.ddfun, 0.5, 2, 1e-10, 100))"
   ]
  },
  {
   "cell_type": "code",
   "execution_count": 177,
   "metadata": {},
   "outputs": [
    {
     "data": {
      "image/png": "[encoded data removed]",
      "text/plain": [
       "<Figure size 432x288 with 2 Axes>"
      ]
     },
     "metadata": {
      "needs_background": "light"
     },
     "output_type": "display_data"
    }
   ],
   "source": [
    "x1, _ = main.bisection(-0.25, 0.5, main.fun, 1e-10, 100)\n",
    "x2, _ = main.bisection(0.5, 2, main.fun, 1e-10, 100)\n",
    "\n",
    "x1_s, _ = main.secant(-0.5, 0.25, main.fun, 1e-10, 100)\n",
    "x2_s, _ = main.secant(0.5, 2, main.fun, 1e-10, 100)\n",
    "\n",
    "x1_n, _ = main.newton(main.fun, main.dfun, main.ddfun, -0.5, 0.25, 1e-10, 100)\n",
    "x2_n, _ = main.newton(main.fun, main.dfun, main.ddfun, 0.5, 2, 1e-10, 100)\n",
    "\n",
    "x = [\"Metoda bijekcji\", \"Metoda siecznych\", \"Metoda newtona\"]\n",
    "h1 = [np.abs(x1 - sol.x[0]), np.abs(x1_s - sol.x[0]), np.abs(x1_n - sol.x[0])]\n",
    "h2 = [np.abs(x2 - sol.x[1]), np.abs(x2_s - sol.x[1]), np.abs(x2_n - sol.x[1])]\n",
    "\n",
    "fig, (ax, ax1) = plt.subplots(2, 1)\n",
    "ax.bar(x, h1, width=0.4, label='x = 0')\n",
    "ax.set_ylabel('Błąd')\n",
    "ax.set_yscale('log')\n",
    "ax.legend()\n",
    "ax.set_title('Błąd metod względem zad. 5')\n",
    "\n",
    "ax1.bar(x, h2, width=0.4, label='x = 0,9165')\n",
    "ax1.set_xlabel('Różne metody rozwiązania')\n",
    "ax1.set_ylabel('Błąd')\n",
    "ax1.set_yscale('log')\n",
    "ax1.legend()\n",
    "\n",
    "plt.show()"
   ]
  },
  {
   "cell_type": "markdown",
   "metadata": {},
   "source": [
    "Jak widać metoda newtona jest najbardziej dokładna spośród poznanych na tych zajęciach.\n",
    "Osiąga ona błąd na poziomie zera maszynowego w 5 interacjach (w przypadku parametrów, które dobrałem)."
   ]
  },
  {
   "cell_type": "code",
   "execution_count": 136,
   "metadata": {},
   "outputs": [
    {
     "name": "stdout",
     "output_type": "stream",
     "text": [
      "529 ns ± 45.8 ns per loop (mean ± std. dev. of 10 runs, 20 loops each)\n",
      "153 µs ± 39.9 µs per loop (mean ± std. dev. of 10 runs, 20 loops each)\n",
      "215 µs ± 29.2 µs per loop (mean ± std. dev. of 10 runs, 20 loops each)\n",
      "287 µs ± 5.08 µs per loop (mean ± std. dev. of 10 runs, 20 loops each)\n",
      "310 µs ± 15.6 µs per loop (mean ± std. dev. of 10 runs, 20 loops each)\n",
      "326 µs ± 28.1 µs per loop (mean ± std. dev. of 10 runs, 20 loops each)\n",
      "307 µs ± 8.53 µs per loop (mean ± std. dev. of 10 runs, 20 loops each)\n",
      "311 µs ± 6.64 µs per loop (mean ± std. dev. of 10 runs, 20 loops each)\n",
      "326 µs ± 30.3 µs per loop (mean ± std. dev. of 10 runs, 20 loops each)\n",
      "313 µs ± 12.8 µs per loop (mean ± std. dev. of 10 runs, 20 loops each)\n"
     ]
    },
    {
     "data": {
      "image/png": "[encoded data removed]",
      "text/plain": [
       "<Figure size 432x288 with 1 Axes>"
      ]
     },
     "metadata": {
      "needs_background": "light"
     },
     "output_type": "display_data"
    }
   ],
   "source": [
    "iteration = []\n",
    "time = []\n",
    "mistake = []\n",
    "for i in range(0, 100, 10):\n",
    "    iteration.append(i)\n",
    "    saved_timing = %timeit -r 10 -n 20 -o main.bisection(-0.5, 0.25, main.fun, 1e-10, i)\n",
    "    time.append(saved_timing.average)\n",
    "    mistake.append(saved_timing.stdev)\n",
    "    \n",
    "plt.errorbar(iteration, time, yerr=mistake, marker='o',linestyle=\"None\")\n",
    "plt.grid()\n",
    "plt.xlabel('Liczba iteracji'), plt.ylabel('Czas [s]')\n",
    "plt.title('Czas wykonania metody bisekcji')\n",
    "plt.show()"
   ]
  },
  {
   "cell_type": "code",
   "execution_count": 135,
   "metadata": {},
   "outputs": [
    {
     "name": "stdout",
     "output_type": "stream",
     "text": [
      "570 ns ± 52.9 ns per loop (mean ± std. dev. of 10 runs, 20 loops each)\n",
      "225 µs ± 28.5 µs per loop (mean ± std. dev. of 10 runs, 20 loops each)\n",
      "409 µs ± 29.1 µs per loop (mean ± std. dev. of 10 runs, 20 loops each)\n",
      "637 µs ± 70.3 µs per loop (mean ± std. dev. of 10 runs, 20 loops each)\n",
      "715 µs ± 82 µs per loop (mean ± std. dev. of 10 runs, 20 loops each)\n",
      "647 µs ± 50.7 µs per loop (mean ± std. dev. of 10 runs, 20 loops each)\n",
      "603 µs ± 7.16 µs per loop (mean ± std. dev. of 10 runs, 20 loops each)\n",
      "720 µs ± 90.3 µs per loop (mean ± std. dev. of 10 runs, 20 loops each)\n",
      "684 µs ± 55.2 µs per loop (mean ± std. dev. of 10 runs, 20 loops each)\n",
      "603 µs ± 7.56 µs per loop (mean ± std. dev. of 10 runs, 20 loops each)\n"
     ]
    },
    {
     "data": {
      "image/png": "[encoded data removed]",
      "text/plain": [
       "<Figure size 432x288 with 1 Axes>"
      ]
     },
     "metadata": {
      "needs_background": "light"
     },
     "output_type": "display_data"
    }
   ],
   "source": [
    "iteration = []\n",
    "time = []\n",
    "mistake = []\n",
    "for i in range(0, 100, 10):\n",
    "    iteration.append(i)\n",
    "    saved_timing = %timeit -r 10 -n 20 -o main.secant(-0.5, 0.25, main.fun, 1e-10, i)\n",
    "    time.append(saved_timing.average)\n",
    "    mistake.append(saved_timing.stdev)\n",
    "    \n",
    "plt.errorbar(iteration, time, yerr=mistake, marker='o',linestyle=\"None\")\n",
    "plt.grid()\n",
    "plt.xlabel('Liczba iteracji'), plt.ylabel('Czas [s]')\n",
    "plt.title('Czas wykonania metody siecznych')\n",
    "plt.show()"
   ]
  },
  {
   "cell_type": "code",
   "execution_count": 134,
   "metadata": {},
   "outputs": [
    {
     "name": "stdout",
     "output_type": "stream",
     "text": [
      "150 µs ± 36.3 µs per loop (mean ± std. dev. of 10 runs, 20 loops each)\n",
      "166 µs ± 45.8 µs per loop (mean ± std. dev. of 10 runs, 20 loops each)\n",
      "141 µs ± 9.09 µs per loop (mean ± std. dev. of 10 runs, 20 loops each)\n",
      "148 µs ± 12.4 µs per loop (mean ± std. dev. of 10 runs, 20 loops each)\n",
      "152 µs ± 24.1 µs per loop (mean ± std. dev. of 10 runs, 20 loops each)\n",
      "156 µs ± 24.9 µs per loop (mean ± std. dev. of 10 runs, 20 loops each)\n",
      "157 µs ± 29.1 µs per loop (mean ± std. dev. of 10 runs, 20 loops each)\n",
      "205 µs ± 50.8 µs per loop (mean ± std. dev. of 10 runs, 20 loops each)\n",
      "189 µs ± 52.7 µs per loop (mean ± std. dev. of 10 runs, 20 loops each)\n",
      "160 µs ± 44.9 µs per loop (mean ± std. dev. of 10 runs, 20 loops each)\n"
     ]
    },
    {
     "data": {
      "image/png": "[encoded data removed]",
      "text/plain": [
       "<Figure size 432x288 with 1 Axes>"
      ]
     },
     "metadata": {
      "needs_background": "light"
     },
     "output_type": "display_data"
    }
   ],
   "source": [
    "iteration = []\n",
    "time = []\n",
    "mistake = []\n",
    "for i in range(0, 100, 10):\n",
    "    iteration.append(i)\n",
    "    saved_timing = %timeit -r 10 -n 20 -o main.newton(main.fun, main.dfun, main.ddfun, -0.5, 0.25, 1e-10, i)\n",
    "    time.append(saved_timing.average)\n",
    "    mistake.append(saved_timing.stdev)\n",
    "    \n",
    "plt.errorbar(iteration, time, yerr=mistake, marker='o',linestyle=\"None\")\n",
    "plt.grid()\n",
    "plt.xlabel('Liczba iteracji'), plt.ylabel('Czas [s]')\n",
    "plt.title('Czas wykonania metody newtona')\n",
    "plt.show()"
   ]
  },
  {
   "cell_type": "markdown",
   "metadata": {},
   "source": [
    "Z kolei pod względem czasu znowu najlepiej wypada metoda newtona.\n",
    "Pozostałe dwie są nieco wolniejsze, jednak ich czas wykonywania jest tak krótki, iż nie powinno być to zauważalne. \n",
    "Ostatecznie możemy stwierdzić, że najlepszym wyborem pod wszystkimi względami byłoby wybranie metody newtona. :)"
   ]
  }
 ],
 "metadata": {
  "kernelspec": {
   "display_name": "Python 3 (ipykernel)",
   "language": "python",
   "name": "python3"
  },
  "language_info": {
   "codemirror_mode": {
    "name": "ipython",
    "version": 3
   },
   "file_extension": ".py",
   "mimetype": "text/x-python",
   "name": "python",
   "nbconvert_exporter": "python",
   "pygments_lexer": "ipython3",
   "version": "3.8.5"
  }
 },
 "nbformat": 4,
 "nbformat_minor": 2
}
